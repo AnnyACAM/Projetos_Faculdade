{
 "cells": [
  {
   "cell_type": "markdown",
   "metadata": {
    "id": "eBY8RGfz2E1j"
   },
   "source": [
    "# TRABALHO PRÁTICO 1\n"
   ]
  },
  {
   "cell_type": "markdown",
   "metadata": {
    "id": "TEgetfHo13ri"
   },
   "source": [
    "  O objetivo desse trabalho é avaliar a capacidade do aluno de gerar consultas em SQL a partir das questões propostas."
   ]
  },
  {
   "cell_type": "markdown",
   "metadata": {
    "id": "gQabrrBfOLLh"
   },
   "source": [
    "**IMPORTANTE**:\n",
    "\n",
    "1.   Altere apenas dentro das aspas duplas onde estiver escrito *Altere Aqui*.\n",
    "2.   Não serão necessárias alterações em funções ou outras partes do código.\n",
    "3.   Após finalizar todas as consultas, clique em *Kernel -> Restart and Run All* no ambiente Jupyter.\n",
    "4.   Altere o nome do arquivo *TP1_matricula.ipynb* adicionando o seu número de matrícula substituindo onde está escrito matrícula.\n",
    "5.   Um arquivo *.csv* com a sua matrícula será gerado automaticamente no diretório do ambiente.\n",
    "6.   Compactar os arquivos *TP1_matricula.ipynb* e *matricula.csv* em *matricula.zip* e submeter na tarefa criada para o TP1 via Moodle.\n",
    "\n",
    "\n",
    "\n"
   ]
  },
  {
   "cell_type": "code",
   "execution_count": null,
   "metadata": {
    "id": "FWT9E_95MXxg"
   },
   "outputs": [],
   "source": []
  },
  {
   "cell_type": "code",
   "execution_count": 1,
   "metadata": {
    "colab": {
     "base_uri": "https://localhost:8080/"
    },
    "id": "6FnNsp038eNA",
    "outputId": "2a2c48ae-57e7-4cb7-a220-56b06d7abaeb"
   },
   "outputs": [
    {
     "name": "stderr",
     "output_type": "stream",
     "text": [
      "ERROR: Could not find a version that satisfies the requirement sqlite3 (from versions: none)\n",
      "ERROR: No matching distribution found for sqlite3\n"
     ]
    },
    {
     "name": "stdout",
     "output_type": "stream",
     "text": [
      "Requirement already satisfied: pandas in c:\\users\\annyc\\onedrive\\documentos\\coding\\anaconda3\\lib\\site-packages (1.5.3)\n",
      "Requirement already satisfied: python-dateutil>=2.8.1 in c:\\users\\annyc\\onedrive\\documentos\\coding\\anaconda3\\lib\\site-packages (from pandas) (2.8.2)\n",
      "Requirement already satisfied: pytz>=2020.1 in c:\\users\\annyc\\onedrive\\documentos\\coding\\anaconda3\\lib\\site-packages (from pandas) (2023.3.post1)\n",
      "Requirement already satisfied: numpy>=1.21.0 in c:\\users\\annyc\\onedrive\\documentos\\coding\\anaconda3\\lib\\site-packages (from pandas) (1.26.4)\n",
      "Requirement already satisfied: six>=1.5 in c:\\users\\annyc\\onedrive\\documentos\\coding\\anaconda3\\lib\\site-packages (from python-dateutil>=2.8.1->pandas) (1.16.0)\n"
     ]
    },
    {
     "name": "stderr",
     "output_type": "stream",
     "text": [
      "ERROR: Could not find a version that satisfies the requirement csv (from versions: none)\n",
      "ERROR: No matching distribution found for csv\n"
     ]
    },
    {
     "name": "stdout",
     "output_type": "stream",
     "text": [
      "Requirement already satisfied: gdown in c:\\users\\annyc\\onedrive\\documentos\\coding\\anaconda3\\lib\\site-packages (5.2.0)\n",
      "Requirement already satisfied: beautifulsoup4 in c:\\users\\annyc\\onedrive\\documentos\\coding\\anaconda3\\lib\\site-packages (from gdown) (4.12.2)\n",
      "Requirement already satisfied: filelock in c:\\users\\annyc\\onedrive\\documentos\\coding\\anaconda3\\lib\\site-packages (from gdown) (3.13.1)\n",
      "Requirement already satisfied: requests[socks] in c:\\users\\annyc\\onedrive\\documentos\\coding\\anaconda3\\lib\\site-packages (from gdown) (2.31.0)\n",
      "Requirement already satisfied: tqdm in c:\\users\\annyc\\onedrive\\documentos\\coding\\anaconda3\\lib\\site-packages (from gdown) (4.65.0)\n",
      "Requirement already satisfied: soupsieve>1.2 in c:\\users\\annyc\\onedrive\\documentos\\coding\\anaconda3\\lib\\site-packages (from beautifulsoup4->gdown) (2.5)\n",
      "Requirement already satisfied: charset-normalizer<4,>=2 in c:\\users\\annyc\\onedrive\\documentos\\coding\\anaconda3\\lib\\site-packages (from requests[socks]->gdown) (2.0.4)\n",
      "Requirement already satisfied: idna<4,>=2.5 in c:\\users\\annyc\\onedrive\\documentos\\coding\\anaconda3\\lib\\site-packages (from requests[socks]->gdown) (3.4)\n",
      "Requirement already satisfied: urllib3<3,>=1.21.1 in c:\\users\\annyc\\onedrive\\documentos\\coding\\anaconda3\\lib\\site-packages (from requests[socks]->gdown) (1.26.20)\n",
      "Requirement already satisfied: certifi>=2017.4.17 in c:\\users\\annyc\\onedrive\\documentos\\coding\\anaconda3\\lib\\site-packages (from requests[socks]->gdown) (2024.2.2)\n",
      "Requirement already satisfied: PySocks!=1.5.7,>=1.5.6 in c:\\users\\annyc\\onedrive\\documentos\\coding\\anaconda3\\lib\\site-packages (from requests[socks]->gdown) (1.7.1)\n",
      "Requirement already satisfied: colorama in c:\\users\\annyc\\onedrive\\documentos\\coding\\anaconda3\\lib\\site-packages (from tqdm->gdown) (0.4.6)\n"
     ]
    }
   ],
   "source": [
    "#NÃO ALTERE AS LINHAS ABAIXO\n",
    "import sys\n",
    "!{sys.executable} -m pip install sqlite3\n",
    "!{sys.executable} -m pip install pandas\n",
    "!{sys.executable} -m pip install csv\n",
    "!{sys.executable} -m pip install gdown"
   ]
  },
  {
   "cell_type": "code",
   "execution_count": 2,
   "metadata": {
    "id": "UTEN6eIxoIW2"
   },
   "outputs": [],
   "source": [
    "#NÃO ALTERE AS LINHAS ABAIXO\n",
    "import sqlite3 as sql3\n",
    "import pandas as pd\n",
    "import csv"
   ]
  },
  {
   "cell_type": "markdown",
   "metadata": {
    "id": "MZfJfrgrOdUz"
   },
   "source": [
    "## Banco de Dados"
   ]
  },
  {
   "cell_type": "code",
   "execution_count": 3,
   "metadata": {},
   "outputs": [
    {
     "name": "stdout",
     "output_type": "stream",
     "text": [
      "Tabelas criadas: ['trailer', 'filmes', 'salas', 'sessoes', 'clientes', 'ingressos']\n"
     ]
    }
   ],
   "source": [
    "# Conectar ao banco de dados\n",
    "conn = sql3.connect(\"cineufmg.db\")\n",
    "cursor = conn.cursor()\n",
    "\n",
    "# Ler e executar o schema SQL\n",
    "with open(\"schema.sql\", \"r\", encoding=\"utf-8\") as f:\n",
    "    schema_sql = f.read()\n",
    "\n",
    "cursor.executescript(schema_sql)\n",
    "conn.commit()\n",
    "\n",
    "# Verificar as tabelas criadas\n",
    "tabelas = cursor.execute(\"SELECT name FROM sqlite_master WHERE type='table';\").fetchall()\n",
    "print(\"Tabelas criadas:\", [t[0] for t in tabelas])\n",
    "\n",
    "# Fechar conexão\n",
    "conn.close()"
   ]
  },
  {
   "cell_type": "code",
   "execution_count": 4,
   "metadata": {
    "id": "DfPu88XYnWvM"
   },
   "outputs": [],
   "source": [
    "#NÃO ALTERE AS LINHAS ABAIXO\n",
    "con = sql3.connect(\"cineufmg.db\")\n",
    "cur = con.cursor()"
   ]
  },
  {
   "cell_type": "markdown",
   "metadata": {
    "id": "-3YwrO_-l2WZ"
   },
   "source": [
    "## Estrutura das Tabelas do Banco de Dados Despesas\n",
    "\n",
    "Nas células de 5 a 9 abaixo, estão listadas as informações referentes aos campos e tipos de dados relacionados a todas as tabelas do Banco de Dados Despesas:"
   ]
  },
  {
   "cell_type": "markdown",
   "metadata": {
    "id": "YNbhzCECo-cG"
   },
   "source": [
    "### TABELA FILMES"
   ]
  },
  {
   "cell_type": "code",
   "execution_count": 5,
   "metadata": {
    "colab": {
     "base_uri": "https://localhost:8080/",
     "height": 206
    },
    "id": "8jkvRmLal28e",
    "outputId": "e7e10120-9a79-4047-bb70-8c7b591d28b2"
   },
   "outputs": [
    {
     "data": {
      "text/html": [
       "<div>\n",
       "<style scoped>\n",
       "    .dataframe tbody tr th:only-of-type {\n",
       "        vertical-align: middle;\n",
       "    }\n",
       "\n",
       "    .dataframe tbody tr th {\n",
       "        vertical-align: top;\n",
       "    }\n",
       "\n",
       "    .dataframe thead th {\n",
       "        text-align: right;\n",
       "    }\n",
       "</style>\n",
       "<table border=\"1\" class=\"dataframe\">\n",
       "  <thead>\n",
       "    <tr style=\"text-align: right;\">\n",
       "      <th></th>\n",
       "      <th>cid</th>\n",
       "      <th>name</th>\n",
       "      <th>type</th>\n",
       "      <th>notnull</th>\n",
       "      <th>dflt_value</th>\n",
       "      <th>pk</th>\n",
       "    </tr>\n",
       "  </thead>\n",
       "  <tbody>\n",
       "    <tr>\n",
       "      <th>0</th>\n",
       "      <td>0</td>\n",
       "      <td>id</td>\n",
       "      <td>INTEGER</td>\n",
       "      <td>0</td>\n",
       "      <td>None</td>\n",
       "      <td>1</td>\n",
       "    </tr>\n",
       "    <tr>\n",
       "      <th>1</th>\n",
       "      <td>1</td>\n",
       "      <td>titulo</td>\n",
       "      <td>TEXT</td>\n",
       "      <td>1</td>\n",
       "      <td>None</td>\n",
       "      <td>0</td>\n",
       "    </tr>\n",
       "    <tr>\n",
       "      <th>2</th>\n",
       "      <td>2</td>\n",
       "      <td>genero</td>\n",
       "      <td>TEXT</td>\n",
       "      <td>1</td>\n",
       "      <td>None</td>\n",
       "      <td>0</td>\n",
       "    </tr>\n",
       "    <tr>\n",
       "      <th>3</th>\n",
       "      <td>3</td>\n",
       "      <td>duracao</td>\n",
       "      <td>INTEGER</td>\n",
       "      <td>1</td>\n",
       "      <td>None</td>\n",
       "      <td>0</td>\n",
       "    </tr>\n",
       "    <tr>\n",
       "      <th>4</th>\n",
       "      <td>4</td>\n",
       "      <td>classificacao_indicativa</td>\n",
       "      <td>INTEGER</td>\n",
       "      <td>1</td>\n",
       "      <td>None</td>\n",
       "      <td>0</td>\n",
       "    </tr>\n",
       "  </tbody>\n",
       "</table>\n",
       "</div>"
      ],
      "text/plain": [
       "   cid                      name     type  notnull dflt_value  pk\n",
       "0    0                        id  INTEGER        0       None   1\n",
       "1    1                    titulo     TEXT        1       None   0\n",
       "2    2                    genero     TEXT        1       None   0\n",
       "3    3                   duracao  INTEGER        1       None   0\n",
       "4    4  classificacao_indicativa  INTEGER        1       None   0"
      ]
     },
     "metadata": {},
     "output_type": "display_data"
    }
   ],
   "source": [
    "#NÃO ALTERE AS LINHAS ABAIXO\n",
    "query = \"PRAGMA table_info('filmes')\"\n",
    "df = pd.read_sql(query, con)\n",
    "display(df)"
   ]
  },
  {
   "cell_type": "markdown",
   "metadata": {
    "id": "8hfCV641pC9H"
   },
   "source": [
    "### TABELA SALAS"
   ]
  },
  {
   "cell_type": "code",
   "execution_count": 6,
   "metadata": {
    "colab": {
     "base_uri": "https://localhost:8080/",
     "height": 206
    },
    "id": "KixV7M2lpIue",
    "outputId": "c9beb1ac-84f2-432d-857e-2c931af6813a"
   },
   "outputs": [
    {
     "data": {
      "text/html": [
       "<div>\n",
       "<style scoped>\n",
       "    .dataframe tbody tr th:only-of-type {\n",
       "        vertical-align: middle;\n",
       "    }\n",
       "\n",
       "    .dataframe tbody tr th {\n",
       "        vertical-align: top;\n",
       "    }\n",
       "\n",
       "    .dataframe thead th {\n",
       "        text-align: right;\n",
       "    }\n",
       "</style>\n",
       "<table border=\"1\" class=\"dataframe\">\n",
       "  <thead>\n",
       "    <tr style=\"text-align: right;\">\n",
       "      <th></th>\n",
       "      <th>cid</th>\n",
       "      <th>name</th>\n",
       "      <th>type</th>\n",
       "      <th>notnull</th>\n",
       "      <th>dflt_value</th>\n",
       "      <th>pk</th>\n",
       "    </tr>\n",
       "  </thead>\n",
       "  <tbody>\n",
       "    <tr>\n",
       "      <th>0</th>\n",
       "      <td>0</td>\n",
       "      <td>id</td>\n",
       "      <td>INTEGER</td>\n",
       "      <td>0</td>\n",
       "      <td>None</td>\n",
       "      <td>1</td>\n",
       "    </tr>\n",
       "    <tr>\n",
       "      <th>1</th>\n",
       "      <td>1</td>\n",
       "      <td>nome</td>\n",
       "      <td>TEXT</td>\n",
       "      <td>1</td>\n",
       "      <td>None</td>\n",
       "      <td>0</td>\n",
       "    </tr>\n",
       "    <tr>\n",
       "      <th>2</th>\n",
       "      <td>2</td>\n",
       "      <td>capacidade</td>\n",
       "      <td>INTEGER</td>\n",
       "      <td>1</td>\n",
       "      <td>None</td>\n",
       "      <td>0</td>\n",
       "    </tr>\n",
       "  </tbody>\n",
       "</table>\n",
       "</div>"
      ],
      "text/plain": [
       "   cid        name     type  notnull dflt_value  pk\n",
       "0    0          id  INTEGER        0       None   1\n",
       "1    1        nome     TEXT        1       None   0\n",
       "2    2  capacidade  INTEGER        1       None   0"
      ]
     },
     "metadata": {},
     "output_type": "display_data"
    }
   ],
   "source": [
    "#NÃO ALTERE AS LINHAS ABAIXO\n",
    "query = \"PRAGMA table_info('salas')\"\n",
    "df = pd.read_sql(query, con)\n",
    "display(df)"
   ]
  },
  {
   "cell_type": "markdown",
   "metadata": {
    "id": "D3Rt9RGApJIc"
   },
   "source": [
    "### TABELA SESSÕES"
   ]
  },
  {
   "cell_type": "code",
   "execution_count": 7,
   "metadata": {
    "colab": {
     "base_uri": "https://localhost:8080/",
     "height": 488
    },
    "id": "ipQyCv7EpLif",
    "outputId": "ddc070d8-a79c-4809-ee2c-ac74d966da47"
   },
   "outputs": [
    {
     "data": {
      "text/html": [
       "<div>\n",
       "<style scoped>\n",
       "    .dataframe tbody tr th:only-of-type {\n",
       "        vertical-align: middle;\n",
       "    }\n",
       "\n",
       "    .dataframe tbody tr th {\n",
       "        vertical-align: top;\n",
       "    }\n",
       "\n",
       "    .dataframe thead th {\n",
       "        text-align: right;\n",
       "    }\n",
       "</style>\n",
       "<table border=\"1\" class=\"dataframe\">\n",
       "  <thead>\n",
       "    <tr style=\"text-align: right;\">\n",
       "      <th></th>\n",
       "      <th>cid</th>\n",
       "      <th>name</th>\n",
       "      <th>type</th>\n",
       "      <th>notnull</th>\n",
       "      <th>dflt_value</th>\n",
       "      <th>pk</th>\n",
       "    </tr>\n",
       "  </thead>\n",
       "  <tbody>\n",
       "    <tr>\n",
       "      <th>0</th>\n",
       "      <td>0</td>\n",
       "      <td>id</td>\n",
       "      <td>INTEGER</td>\n",
       "      <td>0</td>\n",
       "      <td>None</td>\n",
       "      <td>1</td>\n",
       "    </tr>\n",
       "    <tr>\n",
       "      <th>1</th>\n",
       "      <td>1</td>\n",
       "      <td>filme_id</td>\n",
       "      <td>INTEGER</td>\n",
       "      <td>1</td>\n",
       "      <td>None</td>\n",
       "      <td>0</td>\n",
       "    </tr>\n",
       "    <tr>\n",
       "      <th>2</th>\n",
       "      <td>2</td>\n",
       "      <td>sala_id</td>\n",
       "      <td>INTEGER</td>\n",
       "      <td>1</td>\n",
       "      <td>None</td>\n",
       "      <td>0</td>\n",
       "    </tr>\n",
       "    <tr>\n",
       "      <th>3</th>\n",
       "      <td>3</td>\n",
       "      <td>data_hora</td>\n",
       "      <td>TEXT</td>\n",
       "      <td>1</td>\n",
       "      <td>None</td>\n",
       "      <td>0</td>\n",
       "    </tr>\n",
       "    <tr>\n",
       "      <th>4</th>\n",
       "      <td>4</td>\n",
       "      <td>preco_ingresso</td>\n",
       "      <td>REAL</td>\n",
       "      <td>1</td>\n",
       "      <td>None</td>\n",
       "      <td>0</td>\n",
       "    </tr>\n",
       "  </tbody>\n",
       "</table>\n",
       "</div>"
      ],
      "text/plain": [
       "   cid            name     type  notnull dflt_value  pk\n",
       "0    0              id  INTEGER        0       None   1\n",
       "1    1        filme_id  INTEGER        1       None   0\n",
       "2    2         sala_id  INTEGER        1       None   0\n",
       "3    3       data_hora     TEXT        1       None   0\n",
       "4    4  preco_ingresso     REAL        1       None   0"
      ]
     },
     "metadata": {},
     "output_type": "display_data"
    }
   ],
   "source": [
    "#NÃO ALTERE AS LINHAS ABAIXO\n",
    "query = \"PRAGMA table_info('sessoes')\"\n",
    "df = pd.read_sql(query, con)\n",
    "display(df)"
   ]
  },
  {
   "cell_type": "markdown",
   "metadata": {
    "id": "OkYuOWLopLvH"
   },
   "source": [
    "### TABELA CLIENTES"
   ]
  },
  {
   "cell_type": "code",
   "execution_count": 8,
   "metadata": {
    "colab": {
     "base_uri": "https://localhost:8080/",
     "height": 175
    },
    "id": "6OzRcTiOpN3j",
    "outputId": "3eabb2a8-ce42-4758-9f89-21e239cca8b7"
   },
   "outputs": [
    {
     "data": {
      "text/html": [
       "<div>\n",
       "<style scoped>\n",
       "    .dataframe tbody tr th:only-of-type {\n",
       "        vertical-align: middle;\n",
       "    }\n",
       "\n",
       "    .dataframe tbody tr th {\n",
       "        vertical-align: top;\n",
       "    }\n",
       "\n",
       "    .dataframe thead th {\n",
       "        text-align: right;\n",
       "    }\n",
       "</style>\n",
       "<table border=\"1\" class=\"dataframe\">\n",
       "  <thead>\n",
       "    <tr style=\"text-align: right;\">\n",
       "      <th></th>\n",
       "      <th>cid</th>\n",
       "      <th>name</th>\n",
       "      <th>type</th>\n",
       "      <th>notnull</th>\n",
       "      <th>dflt_value</th>\n",
       "      <th>pk</th>\n",
       "    </tr>\n",
       "  </thead>\n",
       "  <tbody>\n",
       "    <tr>\n",
       "      <th>0</th>\n",
       "      <td>0</td>\n",
       "      <td>id</td>\n",
       "      <td>INTEGER</td>\n",
       "      <td>0</td>\n",
       "      <td>None</td>\n",
       "      <td>1</td>\n",
       "    </tr>\n",
       "    <tr>\n",
       "      <th>1</th>\n",
       "      <td>1</td>\n",
       "      <td>nome</td>\n",
       "      <td>TEXT</td>\n",
       "      <td>1</td>\n",
       "      <td>None</td>\n",
       "      <td>0</td>\n",
       "    </tr>\n",
       "    <tr>\n",
       "      <th>2</th>\n",
       "      <td>2</td>\n",
       "      <td>email</td>\n",
       "      <td>TEXT</td>\n",
       "      <td>1</td>\n",
       "      <td>None</td>\n",
       "      <td>0</td>\n",
       "    </tr>\n",
       "    <tr>\n",
       "      <th>3</th>\n",
       "      <td>3</td>\n",
       "      <td>data_nascimento</td>\n",
       "      <td>TEXT</td>\n",
       "      <td>1</td>\n",
       "      <td>None</td>\n",
       "      <td>0</td>\n",
       "    </tr>\n",
       "  </tbody>\n",
       "</table>\n",
       "</div>"
      ],
      "text/plain": [
       "   cid             name     type  notnull dflt_value  pk\n",
       "0    0               id  INTEGER        0       None   1\n",
       "1    1             nome     TEXT        1       None   0\n",
       "2    2            email     TEXT        1       None   0\n",
       "3    3  data_nascimento     TEXT        1       None   0"
      ]
     },
     "metadata": {},
     "output_type": "display_data"
    }
   ],
   "source": [
    "#NÃO ALTERE AS LINHAS ABAIXO\n",
    "query = \"PRAGMA table_info('clientes')\"\n",
    "df = pd.read_sql(query, con)\n",
    "display(df)"
   ]
  },
  {
   "cell_type": "markdown",
   "metadata": {
    "id": "mME1mUVIpODT"
   },
   "source": [
    "### TABELA INGRESSOS"
   ]
  },
  {
   "cell_type": "code",
   "execution_count": 9,
   "metadata": {
    "colab": {
     "base_uri": "https://localhost:8080/",
     "height": 269
    },
    "id": "B6B4VS0QpRcO",
    "outputId": "7e361fc5-7484-46bb-fa3c-61e06eb68e03"
   },
   "outputs": [
    {
     "data": {
      "text/html": [
       "<div>\n",
       "<style scoped>\n",
       "    .dataframe tbody tr th:only-of-type {\n",
       "        vertical-align: middle;\n",
       "    }\n",
       "\n",
       "    .dataframe tbody tr th {\n",
       "        vertical-align: top;\n",
       "    }\n",
       "\n",
       "    .dataframe thead th {\n",
       "        text-align: right;\n",
       "    }\n",
       "</style>\n",
       "<table border=\"1\" class=\"dataframe\">\n",
       "  <thead>\n",
       "    <tr style=\"text-align: right;\">\n",
       "      <th></th>\n",
       "      <th>cid</th>\n",
       "      <th>name</th>\n",
       "      <th>type</th>\n",
       "      <th>notnull</th>\n",
       "      <th>dflt_value</th>\n",
       "      <th>pk</th>\n",
       "    </tr>\n",
       "  </thead>\n",
       "  <tbody>\n",
       "    <tr>\n",
       "      <th>0</th>\n",
       "      <td>0</td>\n",
       "      <td>id</td>\n",
       "      <td>INTEGER</td>\n",
       "      <td>0</td>\n",
       "      <td>None</td>\n",
       "      <td>1</td>\n",
       "    </tr>\n",
       "    <tr>\n",
       "      <th>1</th>\n",
       "      <td>1</td>\n",
       "      <td>sessao_id</td>\n",
       "      <td>INTEGER</td>\n",
       "      <td>1</td>\n",
       "      <td>None</td>\n",
       "      <td>0</td>\n",
       "    </tr>\n",
       "    <tr>\n",
       "      <th>2</th>\n",
       "      <td>2</td>\n",
       "      <td>cliente_id</td>\n",
       "      <td>INTEGER</td>\n",
       "      <td>1</td>\n",
       "      <td>None</td>\n",
       "      <td>0</td>\n",
       "    </tr>\n",
       "    <tr>\n",
       "      <th>3</th>\n",
       "      <td>3</td>\n",
       "      <td>data_compra</td>\n",
       "      <td>TEXT</td>\n",
       "      <td>1</td>\n",
       "      <td>None</td>\n",
       "      <td>0</td>\n",
       "    </tr>\n",
       "  </tbody>\n",
       "</table>\n",
       "</div>"
      ],
      "text/plain": [
       "   cid         name     type  notnull dflt_value  pk\n",
       "0    0           id  INTEGER        0       None   1\n",
       "1    1    sessao_id  INTEGER        1       None   0\n",
       "2    2   cliente_id  INTEGER        1       None   0\n",
       "3    3  data_compra     TEXT        1       None   0"
      ]
     },
     "metadata": {},
     "output_type": "display_data"
    }
   ],
   "source": [
    "#NÃO ALTERE AS LINHAS ABAIXO\n",
    "query = \"PRAGMA table_info('ingressos')\"\n",
    "df = pd.read_sql(query, con)\n",
    "display(df)"
   ]
  },
  {
   "cell_type": "markdown",
   "metadata": {},
   "source": [
    "# População do DB\n",
    "\n",
    "Baseado no exemplo abaixo, incremente a população do seu banco de dados para verificar os resultados das consultas seguintes."
   ]
  },
  {
   "cell_type": "code",
   "execution_count": 10,
   "metadata": {},
   "outputs": [
    {
     "name": "stdout",
     "output_type": "stream",
     "text": [
      "\n",
      "Tabela: filmes\n",
      "(1, 'Vingadores Ultimato', 'Ação', 148, 14)\n",
      "(2, 'Toy Story', 'Animação', 81, 0)\n",
      "(3, 'O Poderoso Chefão', 'Drama', 175, 18)\n",
      "\n",
      "Tabela: salas\n",
      "(1, 'Sala 1', 100)\n",
      "(2, 'Sala 2', 80)\n",
      "\n",
      "Tabela: sessoes\n",
      "(1, 1, 1, '2025-05-12 19:30', 20.0)\n",
      "(2, 2, 2, '2025-05-13 14:00', 15.5)\n",
      "(3, 3, 1, '2025-05-14 21:00', 25.0)\n",
      "\n",
      "Tabela: clientes\n",
      "(1, 'Alice', 'alice@email.com', '2000-01-01')\n",
      "(2, 'Bruno', 'bruno@email.com', '1995-06-15')\n",
      "(3, 'Carla', 'carla@email.com', '2003-11-23')\n",
      "\n",
      "Tabela: ingressos\n",
      "(1, 1, 1, '2025-05-10')\n",
      "(2, 2, 2, '2025-05-11')\n",
      "(3, 3, 3, '2025-05-12')\n"
     ]
    }
   ],
   "source": [
    "filmes = [\n",
    "    (1, 'Vingadores Ultimato', 'Ação', 148, 14),\n",
    "    (2, 'Toy Story', 'Animação', 81, 0),\n",
    "    (3, 'O Poderoso Chefão', 'Drama', 175, 18)\n",
    "]\n",
    "\n",
    "salas = [\n",
    "    (1, 'Sala 1', 100),\n",
    "    (2, 'Sala 2', 80)\n",
    "]\n",
    "\n",
    "sessoes = [\n",
    "    (1, 1, 1, '2025-05-12 19:30', 20.0),\n",
    "    (2, 2, 2, '2025-05-13 14:00', 15.5),\n",
    "    (3, 3, 1, '2025-05-14 21:00', 25.0)\n",
    "]\n",
    "\n",
    "clientes = [\n",
    "    (1, 'Alice', 'alice@email.com', '2000-01-01'),\n",
    "    (2, 'Bruno', 'bruno@email.com', '1995-06-15'),\n",
    "    (3, 'Carla', 'carla@email.com', '2003-11-23')\n",
    "]\n",
    "\n",
    "ingressos = [\n",
    "    (1, 1, 1, '2025-05-10'),\n",
    "    (2, 2, 2, '2025-05-11'),\n",
    "    (3, 3, 3, '2025-05-12')\n",
    "]\n",
    "\n",
    "cur.executemany(\"INSERT INTO filmes VALUES (?, ?, ?, ?, ?)\", filmes)\n",
    "cur.executemany(\"INSERT INTO salas VALUES (?, ?, ?)\", salas)\n",
    "cur.executemany(\"INSERT INTO sessoes VALUES (?, ?, ?, ?, ?)\", sessoes)\n",
    "cur.executemany(\"INSERT INTO clientes VALUES (?, ?, ?, ?)\", clientes)\n",
    "cur.executemany(\"INSERT INTO ingressos VALUES (?, ?, ?, ?)\", ingressos)\n",
    "\n",
    "con.commit()\n",
    "\n",
    "# Visualizar os dados inseridos\n",
    "for tabela in ['filmes', 'salas', 'sessoes', 'clientes', 'ingressos']:\n",
    "    print(f\"\\nTabela: {tabela}\")\n",
    "    for row in cur.execute(f\"SELECT * FROM {tabela}\"):\n",
    "        print(row)"
   ]
  },
  {
   "cell_type": "markdown",
   "metadata": {
    "id": "yrtZ8sTRP3TB"
   },
   "source": [
    "## Arquivo de Resultados\n",
    "Na célula 10 abaixo, você irá colocar o numero da sua matrícula. Essa é a primeira alteração necessária para executar o TP. A partir das células 10 e 11, o arquivo de resultado será gerado.\n"
   ]
  },
  {
   "cell_type": "code",
   "execution_count": 11,
   "metadata": {
    "id": "f5lLCbyiMjOF"
   },
   "outputs": [],
   "source": [
    "matricula = \"2024024046\""
   ]
  },
  {
   "cell_type": "code",
   "execution_count": 12,
   "metadata": {
    "colab": {
     "base_uri": "https://localhost:8080/"
    },
    "id": "lIb4kAKSMkcT",
    "outputId": "66cc3af0-526f-4a68-ee8a-bf0e575afe65"
   },
   "outputs": [
    {
     "data": {
      "text/plain": [
       "25"
      ]
     },
     "execution_count": 12,
     "metadata": {},
     "output_type": "execute_result"
    }
   ],
   "source": [
    "#NÃO ALTERE AS LINHAS ABAIXO\n",
    "tp1_csv = matricula+\".csv\"\n",
    "queries = open(tp1_csv, 'w')\n",
    "writer = csv.writer(queries)\n",
    "writer.writerow([\"Query Number\", \"Query Size\"])"
   ]
  },
  {
   "cell_type": "markdown",
   "metadata": {
    "id": "uhNxD8rdQNCh"
   },
   "source": [
    "## Função de Consulta\n",
    "A função abaixo executa a consulta, exibe o retorno da consulta no banco e grava os dados necessários no arquivo resultado."
   ]
  },
  {
   "cell_type": "code",
   "execution_count": 13,
   "metadata": {
    "id": "_gPzai2DnYTB"
   },
   "outputs": [],
   "source": [
    "#NÃO ALTERE AS LINHAS ABAIXO\n",
    "def runQuery(query, query_name):\n",
    "  df = pd.read_sql(query, con)\n",
    "  query_size = df.shape\n",
    "  writer.writerow([query_name, query_size])\n",
    "  writer.writerow([query, df])\n",
    "  display(df)"
   ]
  },
  {
   "cell_type": "markdown",
   "metadata": {
    "id": "lRYyoTpcXfIV"
   },
   "source": [
    "## PARTE 1 - Transformar Algebra Relacional para SQL\n",
    "Abaixo, seguem as consultas que voce terá de transformar de Algebra Relacional para SQL. Altere **APENAS** o espaço entre as aspas. Dentro desse espaço é que você deverá digitar o comando de execução da consulta."
   ]
  },
  {
   "cell_type": "markdown",
   "metadata": {},
   "source": [
    "<b>A1</b> Seleciona todos os filmes com o operador <I>SELECT</I>"
   ]
  },
  {
   "cell_type": "code",
   "execution_count": 14,
   "metadata": {
    "colab": {
     "base_uri": "https://localhost:8080/",
     "height": 424
    },
    "id": "K0ISjW0gXxVC",
    "outputId": "ac341bfb-2d06-4283-d381-9dcffb3a9681"
   },
   "outputs": [
    {
     "data": {
      "text/html": [
       "<div>\n",
       "<style scoped>\n",
       "    .dataframe tbody tr th:only-of-type {\n",
       "        vertical-align: middle;\n",
       "    }\n",
       "\n",
       "    .dataframe tbody tr th {\n",
       "        vertical-align: top;\n",
       "    }\n",
       "\n",
       "    .dataframe thead th {\n",
       "        text-align: right;\n",
       "    }\n",
       "</style>\n",
       "<table border=\"1\" class=\"dataframe\">\n",
       "  <thead>\n",
       "    <tr style=\"text-align: right;\">\n",
       "      <th></th>\n",
       "      <th>id</th>\n",
       "      <th>titulo</th>\n",
       "      <th>genero</th>\n",
       "      <th>duracao</th>\n",
       "      <th>classificacao_indicativa</th>\n",
       "    </tr>\n",
       "  </thead>\n",
       "  <tbody>\n",
       "    <tr>\n",
       "      <th>0</th>\n",
       "      <td>1</td>\n",
       "      <td>Vingadores Ultimato</td>\n",
       "      <td>Ação</td>\n",
       "      <td>148</td>\n",
       "      <td>14</td>\n",
       "    </tr>\n",
       "    <tr>\n",
       "      <th>1</th>\n",
       "      <td>2</td>\n",
       "      <td>Toy Story</td>\n",
       "      <td>Animação</td>\n",
       "      <td>81</td>\n",
       "      <td>0</td>\n",
       "    </tr>\n",
       "    <tr>\n",
       "      <th>2</th>\n",
       "      <td>3</td>\n",
       "      <td>O Poderoso Chefão</td>\n",
       "      <td>Drama</td>\n",
       "      <td>175</td>\n",
       "      <td>18</td>\n",
       "    </tr>\n",
       "  </tbody>\n",
       "</table>\n",
       "</div>"
      ],
      "text/plain": [
       "   id               titulo    genero  duracao  classificacao_indicativa\n",
       "0   1  Vingadores Ultimato      Ação      148                        14\n",
       "1   2            Toy Story  Animação       81                         0\n",
       "2   3    O Poderoso Chefão     Drama      175                        18"
      ]
     },
     "metadata": {},
     "output_type": "display_data"
    }
   ],
   "source": [
    "a0 = \"SELECT * FROM filmes\"\n",
    "#NÃO ALTERE AS LINHAS ABAIXO\n",
    "runQuery(a0, \"a0\")"
   ]
  },
  {
   "cell_type": "markdown",
   "metadata": {},
   "source": [
    "<b>A2</b> Seleciona o titulo de todos os filmes com o operador <I>SELECT</I> e filtra com operador <I>WHERE</I> os filmes de gênero 'Ação'"
   ]
  },
  {
   "cell_type": "code",
   "execution_count": 15,
   "metadata": {
    "colab": {
     "base_uri": "https://localhost:8080/",
     "height": 408
    },
    "id": "JIUuV2_RXxhS",
    "outputId": "1efa732a-d9e6-4b8b-a278-85170af231db"
   },
   "outputs": [
    {
     "data": {
      "text/html": [
       "<div>\n",
       "<style scoped>\n",
       "    .dataframe tbody tr th:only-of-type {\n",
       "        vertical-align: middle;\n",
       "    }\n",
       "\n",
       "    .dataframe tbody tr th {\n",
       "        vertical-align: top;\n",
       "    }\n",
       "\n",
       "    .dataframe thead th {\n",
       "        text-align: right;\n",
       "    }\n",
       "</style>\n",
       "<table border=\"1\" class=\"dataframe\">\n",
       "  <thead>\n",
       "    <tr style=\"text-align: right;\">\n",
       "      <th></th>\n",
       "      <th>titulo</th>\n",
       "    </tr>\n",
       "  </thead>\n",
       "  <tbody>\n",
       "    <tr>\n",
       "      <th>0</th>\n",
       "      <td>Vingadores Ultimato</td>\n",
       "    </tr>\n",
       "  </tbody>\n",
       "</table>\n",
       "</div>"
      ],
      "text/plain": [
       "                titulo\n",
       "0  Vingadores Ultimato"
      ]
     },
     "metadata": {},
     "output_type": "display_data"
    }
   ],
   "source": [
    "a1 = \"SELECT titulo FROM filmes WHERE genero = 'Ação';\"\n",
    "#NÃO ALTERE AS LINHAS ABAIXO\n",
    "runQuery(a1, \"a1\")"
   ]
  },
  {
   "cell_type": "markdown",
   "metadata": {},
   "source": [
    "<b>A3</b> Seleciona o nome de todas as salas com o operador <I>SELECT</I> e filtra com operador <I>WHERE</I> as que possuem capacidade maior que 100."
   ]
  },
  {
   "cell_type": "code",
   "execution_count": 16,
   "metadata": {
    "id": "xd-dr96uXxu9"
   },
   "outputs": [
    {
     "data": {
      "text/html": [
       "<div>\n",
       "<style scoped>\n",
       "    .dataframe tbody tr th:only-of-type {\n",
       "        vertical-align: middle;\n",
       "    }\n",
       "\n",
       "    .dataframe tbody tr th {\n",
       "        vertical-align: top;\n",
       "    }\n",
       "\n",
       "    .dataframe thead th {\n",
       "        text-align: right;\n",
       "    }\n",
       "</style>\n",
       "<table border=\"1\" class=\"dataframe\">\n",
       "  <thead>\n",
       "    <tr style=\"text-align: right;\">\n",
       "      <th></th>\n",
       "      <th>nome</th>\n",
       "    </tr>\n",
       "  </thead>\n",
       "  <tbody>\n",
       "  </tbody>\n",
       "</table>\n",
       "</div>"
      ],
      "text/plain": [
       "Empty DataFrame\n",
       "Columns: [nome]\n",
       "Index: []"
      ]
     },
     "metadata": {},
     "output_type": "display_data"
    }
   ],
   "source": [
    "a2 = \"SELECT nome FROM salas WHERE capacidade > 100;\"\n",
    "#NÃO ALTERE AS LINHAS ABAIXO\n",
    "runQuery(a2, \"a2\")"
   ]
  },
  {
   "cell_type": "markdown",
   "metadata": {},
   "source": [
    "<b>A4</b> Seleciona o titulo de todos os filmes e o preço do ingresso de todas as sessões com o operador <I>SELECT</I>. Utiliza o operador <I>JOIN</I> para combinar as tabelas filmes e sessões,exibindo o valor do ingresso por título nas sessões."
   ]
  },
  {
   "cell_type": "code",
   "execution_count": 17,
   "metadata": {
    "id": "gHfP3j2DXx6P"
   },
   "outputs": [
    {
     "data": {
      "text/html": [
       "<div>\n",
       "<style scoped>\n",
       "    .dataframe tbody tr th:only-of-type {\n",
       "        vertical-align: middle;\n",
       "    }\n",
       "\n",
       "    .dataframe tbody tr th {\n",
       "        vertical-align: top;\n",
       "    }\n",
       "\n",
       "    .dataframe thead th {\n",
       "        text-align: right;\n",
       "    }\n",
       "</style>\n",
       "<table border=\"1\" class=\"dataframe\">\n",
       "  <thead>\n",
       "    <tr style=\"text-align: right;\">\n",
       "      <th></th>\n",
       "      <th>titulo</th>\n",
       "      <th>preco_ingresso</th>\n",
       "    </tr>\n",
       "  </thead>\n",
       "  <tbody>\n",
       "    <tr>\n",
       "      <th>0</th>\n",
       "      <td>Vingadores Ultimato</td>\n",
       "      <td>20.0</td>\n",
       "    </tr>\n",
       "    <tr>\n",
       "      <th>1</th>\n",
       "      <td>Toy Story</td>\n",
       "      <td>15.5</td>\n",
       "    </tr>\n",
       "    <tr>\n",
       "      <th>2</th>\n",
       "      <td>O Poderoso Chefão</td>\n",
       "      <td>25.0</td>\n",
       "    </tr>\n",
       "  </tbody>\n",
       "</table>\n",
       "</div>"
      ],
      "text/plain": [
       "                titulo  preco_ingresso\n",
       "0  Vingadores Ultimato            20.0\n",
       "1            Toy Story            15.5\n",
       "2    O Poderoso Chefão            25.0"
      ]
     },
     "metadata": {},
     "output_type": "display_data"
    }
   ],
   "source": [
    "a3 = \"SELECT titulo, preco_ingresso FROM filmes JOIN sessoes ON filmes.id = sessoes.filme_id;\"\n",
    "#NÃO ALTERE AS LINHAS ABAIXO\n",
    "runQuery(a3, \"a3\")"
   ]
  },
  {
   "cell_type": "markdown",
   "metadata": {},
   "source": [
    "<b>A5</b> Seleciona o nome de todos os clientes com o operador <I>SELECT</I>. Utiliza o operador <I>JOIN</I> para combinar as tabelas clientes e ingressos, exibindo o nome dos clientes que compraram algum ingresso."
   ]
  },
  {
   "cell_type": "code",
   "execution_count": 18,
   "metadata": {
    "id": "9_gkv1k1XydB"
   },
   "outputs": [
    {
     "data": {
      "text/html": [
       "<div>\n",
       "<style scoped>\n",
       "    .dataframe tbody tr th:only-of-type {\n",
       "        vertical-align: middle;\n",
       "    }\n",
       "\n",
       "    .dataframe tbody tr th {\n",
       "        vertical-align: top;\n",
       "    }\n",
       "\n",
       "    .dataframe thead th {\n",
       "        text-align: right;\n",
       "    }\n",
       "</style>\n",
       "<table border=\"1\" class=\"dataframe\">\n",
       "  <thead>\n",
       "    <tr style=\"text-align: right;\">\n",
       "      <th></th>\n",
       "      <th>nome</th>\n",
       "    </tr>\n",
       "  </thead>\n",
       "  <tbody>\n",
       "    <tr>\n",
       "      <th>0</th>\n",
       "      <td>Alice</td>\n",
       "    </tr>\n",
       "    <tr>\n",
       "      <th>1</th>\n",
       "      <td>Bruno</td>\n",
       "    </tr>\n",
       "    <tr>\n",
       "      <th>2</th>\n",
       "      <td>Carla</td>\n",
       "    </tr>\n",
       "  </tbody>\n",
       "</table>\n",
       "</div>"
      ],
      "text/plain": [
       "    nome\n",
       "0  Alice\n",
       "1  Bruno\n",
       "2  Carla"
      ]
     },
     "metadata": {},
     "output_type": "display_data"
    }
   ],
   "source": [
    "a4 = \"SELECT nome FROM clientes JOIN ingressos ON clientes.id = ingressos.cliente_id;\"\n",
    "#NÃO ALTERE AS LINHAS ABAIXO\n",
    "runQuery(a4, \"a4\")"
   ]
  },
  {
   "cell_type": "markdown",
   "metadata": {},
   "source": [
    "<b>A6</b> Seleciona o titulo de todos os filmes com o operador <I>SELECT</I> e filtra com operador <I>WHERE</I> os que possuem classificação indicativa maior que 16"
   ]
  },
  {
   "cell_type": "code",
   "execution_count": 19,
   "metadata": {
    "id": "yUnUGT4XTEet"
   },
   "outputs": [
    {
     "data": {
      "text/html": [
       "<div>\n",
       "<style scoped>\n",
       "    .dataframe tbody tr th:only-of-type {\n",
       "        vertical-align: middle;\n",
       "    }\n",
       "\n",
       "    .dataframe tbody tr th {\n",
       "        vertical-align: top;\n",
       "    }\n",
       "\n",
       "    .dataframe thead th {\n",
       "        text-align: right;\n",
       "    }\n",
       "</style>\n",
       "<table border=\"1\" class=\"dataframe\">\n",
       "  <thead>\n",
       "    <tr style=\"text-align: right;\">\n",
       "      <th></th>\n",
       "      <th>nome</th>\n",
       "    </tr>\n",
       "  </thead>\n",
       "  <tbody>\n",
       "    <tr>\n",
       "      <th>0</th>\n",
       "      <td>O Poderoso Chefão</td>\n",
       "    </tr>\n",
       "  </tbody>\n",
       "</table>\n",
       "</div>"
      ],
      "text/plain": [
       "                nome\n",
       "0  O Poderoso Chefão"
      ]
     },
     "metadata": {},
     "output_type": "display_data"
    }
   ],
   "source": [
    "a5 = \"SELECT titulo AS nome FROM filmes WHERE classificacao_indicativa > 16;\"\n",
    "# NÃO ALTERE AS LINHAS ABAIXO\n",
    "runQuery(a5, \"a5\")"
   ]
  },
  {
   "cell_type": "markdown",
   "metadata": {},
   "source": [
    "<b>A7</b> Seleciona o nome de todos os clientes e a data de compra de todos os ingressos com o operador <I>SELECT</I>. Utiliza o operador <I>JOIN</I> para combinar as tabelas clientes,ingressos e sessões, exibindo o nome do comprador e a data de compra do ingresso."
   ]
  },
  {
   "cell_type": "code",
   "execution_count": 20,
   "metadata": {
    "id": "K0odXUSDTLYX"
   },
   "outputs": [
    {
     "data": {
      "text/html": [
       "<div>\n",
       "<style scoped>\n",
       "    .dataframe tbody tr th:only-of-type {\n",
       "        vertical-align: middle;\n",
       "    }\n",
       "\n",
       "    .dataframe tbody tr th {\n",
       "        vertical-align: top;\n",
       "    }\n",
       "\n",
       "    .dataframe thead th {\n",
       "        text-align: right;\n",
       "    }\n",
       "</style>\n",
       "<table border=\"1\" class=\"dataframe\">\n",
       "  <thead>\n",
       "    <tr style=\"text-align: right;\">\n",
       "      <th></th>\n",
       "      <th>nome</th>\n",
       "      <th>data_compra</th>\n",
       "    </tr>\n",
       "  </thead>\n",
       "  <tbody>\n",
       "    <tr>\n",
       "      <th>0</th>\n",
       "      <td>Alice</td>\n",
       "      <td>2025-05-10</td>\n",
       "    </tr>\n",
       "    <tr>\n",
       "      <th>1</th>\n",
       "      <td>Bruno</td>\n",
       "      <td>2025-05-11</td>\n",
       "    </tr>\n",
       "    <tr>\n",
       "      <th>2</th>\n",
       "      <td>Carla</td>\n",
       "      <td>2025-05-12</td>\n",
       "    </tr>\n",
       "  </tbody>\n",
       "</table>\n",
       "</div>"
      ],
      "text/plain": [
       "    nome data_compra\n",
       "0  Alice  2025-05-10\n",
       "1  Bruno  2025-05-11\n",
       "2  Carla  2025-05-12"
      ]
     },
     "metadata": {},
     "output_type": "display_data"
    }
   ],
   "source": [
    "a6 = \"SELECT nome, data_compra FROM clientes JOIN ingressos ON clientes.id = ingressos.cliente_id JOIN sessoes ON ingressos.sessao_id = sessoes.id;\"\n",
    "# NÃO ALTERE AS LINHAS ABAIXO\n",
    "runQuery(a6, \"a6\")"
   ]
  },
  {
   "cell_type": "markdown",
   "metadata": {},
   "source": [
    "<b>A8</b> Seleciona o titulo de todos os filmes com o operador <I>SELECT</I>. Utiliza o operador <I>JOIN</I> para combinar as tabelas filmes e sessões, exibindo o titulo de todos os filmes exibidos em sessões."
   ]
  },
  {
   "cell_type": "code",
   "execution_count": 21,
   "metadata": {
    "id": "B0yd5YDhU9gG"
   },
   "outputs": [
    {
     "data": {
      "text/html": [
       "<div>\n",
       "<style scoped>\n",
       "    .dataframe tbody tr th:only-of-type {\n",
       "        vertical-align: middle;\n",
       "    }\n",
       "\n",
       "    .dataframe tbody tr th {\n",
       "        vertical-align: top;\n",
       "    }\n",
       "\n",
       "    .dataframe thead th {\n",
       "        text-align: right;\n",
       "    }\n",
       "</style>\n",
       "<table border=\"1\" class=\"dataframe\">\n",
       "  <thead>\n",
       "    <tr style=\"text-align: right;\">\n",
       "      <th></th>\n",
       "      <th>nome</th>\n",
       "    </tr>\n",
       "  </thead>\n",
       "  <tbody>\n",
       "    <tr>\n",
       "      <th>0</th>\n",
       "      <td>Vingadores Ultimato</td>\n",
       "    </tr>\n",
       "    <tr>\n",
       "      <th>1</th>\n",
       "      <td>Toy Story</td>\n",
       "    </tr>\n",
       "    <tr>\n",
       "      <th>2</th>\n",
       "      <td>O Poderoso Chefão</td>\n",
       "    </tr>\n",
       "  </tbody>\n",
       "</table>\n",
       "</div>"
      ],
      "text/plain": [
       "                  nome\n",
       "0  Vingadores Ultimato\n",
       "1            Toy Story\n",
       "2    O Poderoso Chefão"
      ]
     },
     "metadata": {},
     "output_type": "display_data"
    }
   ],
   "source": [
    "a7 = \"SELECT titulo AS nome FROM filmes JOIN sessoes ON filmes.id = sessoes.filme_id;\"\n",
    "# NÃO ALTERE AS LINHAS ABAIXO\n",
    "runQuery(a7, \"a7\")"
   ]
  },
  {
   "cell_type": "markdown",
   "metadata": {},
   "source": [
    "<b>A9</b> Seleciona id de todas as sessões com o operador <I>SELECT</I> e filtra com operador <I>WHERE</I> as sessões disponíveis no dia 25-04-2025"
   ]
  },
  {
   "cell_type": "code",
   "execution_count": 22,
   "metadata": {
    "id": "_TKRdzZrTLmO"
   },
   "outputs": [
    {
     "data": {
      "text/html": [
       "<div>\n",
       "<style scoped>\n",
       "    .dataframe tbody tr th:only-of-type {\n",
       "        vertical-align: middle;\n",
       "    }\n",
       "\n",
       "    .dataframe tbody tr th {\n",
       "        vertical-align: top;\n",
       "    }\n",
       "\n",
       "    .dataframe thead th {\n",
       "        text-align: right;\n",
       "    }\n",
       "</style>\n",
       "<table border=\"1\" class=\"dataframe\">\n",
       "  <thead>\n",
       "    <tr style=\"text-align: right;\">\n",
       "      <th></th>\n",
       "      <th>id</th>\n",
       "    </tr>\n",
       "  </thead>\n",
       "  <tbody>\n",
       "  </tbody>\n",
       "</table>\n",
       "</div>"
      ],
      "text/plain": [
       "Empty DataFrame\n",
       "Columns: [id]\n",
       "Index: []"
      ]
     },
     "metadata": {},
     "output_type": "display_data"
    }
   ],
   "source": [
    "a8 = \"SELECT id FROM sessoes WHERE data_hora LIKE '2025-04-25%'\"\n",
    "# NÃO ALTERE AS LINHAS ABAIXO\n",
    "runQuery(a8, \"a8\")"
   ]
  },
  {
   "cell_type": "markdown",
   "metadata": {},
   "source": [
    "<b>A9</b> Seleciona id de todos os clientes que compraram ingressos com o operador <I>SELECT</I> e quantifica com operador <I>GROUP BY</I> o número de ingressos por cliente."
   ]
  },
  {
   "cell_type": "code",
   "execution_count": 23,
   "metadata": {
    "id": "49GnZZ5BTLw4"
   },
   "outputs": [
    {
     "data": {
      "text/html": [
       "<div>\n",
       "<style scoped>\n",
       "    .dataframe tbody tr th:only-of-type {\n",
       "        vertical-align: middle;\n",
       "    }\n",
       "\n",
       "    .dataframe tbody tr th {\n",
       "        vertical-align: top;\n",
       "    }\n",
       "\n",
       "    .dataframe thead th {\n",
       "        text-align: right;\n",
       "    }\n",
       "</style>\n",
       "<table border=\"1\" class=\"dataframe\">\n",
       "  <thead>\n",
       "    <tr style=\"text-align: right;\">\n",
       "      <th></th>\n",
       "      <th>cliente_id</th>\n",
       "      <th>count(*)</th>\n",
       "    </tr>\n",
       "  </thead>\n",
       "  <tbody>\n",
       "    <tr>\n",
       "      <th>0</th>\n",
       "      <td>1</td>\n",
       "      <td>1</td>\n",
       "    </tr>\n",
       "    <tr>\n",
       "      <th>1</th>\n",
       "      <td>2</td>\n",
       "      <td>1</td>\n",
       "    </tr>\n",
       "    <tr>\n",
       "      <th>2</th>\n",
       "      <td>3</td>\n",
       "      <td>1</td>\n",
       "    </tr>\n",
       "  </tbody>\n",
       "</table>\n",
       "</div>"
      ],
      "text/plain": [
       "   cliente_id  count(*)\n",
       "0           1         1\n",
       "1           2         1\n",
       "2           3         1"
      ]
     },
     "metadata": {},
     "output_type": "display_data"
    }
   ],
   "source": [
    "a9 = \"SELECT cliente_id,count(*) FROM ingressos GROUP BY cliente_id HAVING count(*)\"\n",
    "# NÃO ALTERE AS LINHAS ABAIXO\n",
    "runQuery(a9, \"a9\")"
   ]
  },
  {
   "cell_type": "markdown",
   "metadata": {},
   "source": [
    "<b>A10</b> Seleciona o titulo de todos os filmes com o operador <I>SELECT</I>. Utiliza o operador <I>JOIN</I> para combinar as tabelas filmes,sessões e ingressos, exibindo o titulo de todos os filmes que tiveram ingressos vendidos para suas respectivas sessões."
   ]
  },
  {
   "cell_type": "code",
   "execution_count": 24,
   "metadata": {},
   "outputs": [
    {
     "data": {
      "text/html": [
       "<div>\n",
       "<style scoped>\n",
       "    .dataframe tbody tr th:only-of-type {\n",
       "        vertical-align: middle;\n",
       "    }\n",
       "\n",
       "    .dataframe tbody tr th {\n",
       "        vertical-align: top;\n",
       "    }\n",
       "\n",
       "    .dataframe thead th {\n",
       "        text-align: right;\n",
       "    }\n",
       "</style>\n",
       "<table border=\"1\" class=\"dataframe\">\n",
       "  <thead>\n",
       "    <tr style=\"text-align: right;\">\n",
       "      <th></th>\n",
       "      <th>titulo</th>\n",
       "    </tr>\n",
       "  </thead>\n",
       "  <tbody>\n",
       "    <tr>\n",
       "      <th>0</th>\n",
       "      <td>Vingadores Ultimato</td>\n",
       "    </tr>\n",
       "    <tr>\n",
       "      <th>1</th>\n",
       "      <td>Toy Story</td>\n",
       "    </tr>\n",
       "    <tr>\n",
       "      <th>2</th>\n",
       "      <td>O Poderoso Chefão</td>\n",
       "    </tr>\n",
       "  </tbody>\n",
       "</table>\n",
       "</div>"
      ],
      "text/plain": [
       "                titulo\n",
       "0  Vingadores Ultimato\n",
       "1            Toy Story\n",
       "2    O Poderoso Chefão"
      ]
     },
     "metadata": {},
     "output_type": "display_data"
    }
   ],
   "source": [
    "a10 = \"SELECT titulo FROM filmes JOIN sessoes ON filmes.id = sessoes.filme_id JOIN ingressos ON ingressos.sessao_id = sessoes.id\"\n",
    "# NÃO ALTERE AS LINHAS ABAIXO\n",
    "runQuery(a10, \"a10\")"
   ]
  },
  {
   "cell_type": "markdown",
   "metadata": {
    "id": "2l0qzHBRSoro"
   },
   "source": [
    "## PARTE 2 - Consultas SQL\n",
    "Abaixo, seguem as consultas que voce terá de executar. Altere **APENAS** o espaço entre as aspas. Dentro desse espaço é que você deverá digitar o comando de execução da consulta."
   ]
  },
  {
   "cell_type": "markdown",
   "metadata": {},
   "source": [
    "<b>B1</b> Seleciona os filmes com o operador <I>SELECT</I> e filtra com operador <I>WHERE</I> os filmes de gênero 'Comédia'"
   ]
  },
  {
   "cell_type": "code",
   "execution_count": 25,
   "metadata": {
    "id": "qJj2evYi9uPp"
   },
   "outputs": [
    {
     "data": {
      "text/html": [
       "<div>\n",
       "<style scoped>\n",
       "    .dataframe tbody tr th:only-of-type {\n",
       "        vertical-align: middle;\n",
       "    }\n",
       "\n",
       "    .dataframe tbody tr th {\n",
       "        vertical-align: top;\n",
       "    }\n",
       "\n",
       "    .dataframe thead th {\n",
       "        text-align: right;\n",
       "    }\n",
       "</style>\n",
       "<table border=\"1\" class=\"dataframe\">\n",
       "  <thead>\n",
       "    <tr style=\"text-align: right;\">\n",
       "      <th></th>\n",
       "      <th>id</th>\n",
       "      <th>titulo</th>\n",
       "      <th>genero</th>\n",
       "      <th>duracao</th>\n",
       "      <th>classificacao_indicativa</th>\n",
       "    </tr>\n",
       "  </thead>\n",
       "  <tbody>\n",
       "  </tbody>\n",
       "</table>\n",
       "</div>"
      ],
      "text/plain": [
       "Empty DataFrame\n",
       "Columns: [id, titulo, genero, duracao, classificacao_indicativa]\n",
       "Index: []"
      ]
     },
     "metadata": {},
     "output_type": "display_data"
    }
   ],
   "source": [
    "q1 = \"SELECT * FROM filmes WHERE genero = 'Comédia'\"\n",
    "#NÃO ALTERE AS LINHAS ABAIXO\n",
    "runQuery(q1, \"q1\")"
   ]
  },
  {
   "cell_type": "markdown",
   "metadata": {},
   "source": [
    "<b>B2</b> Seleciona as salas com o operador <I>SELECT</I> e filtra com operador <I>WHERE</I> as que possuem capacidade maior que 150."
   ]
  },
  {
   "cell_type": "code",
   "execution_count": 26,
   "metadata": {
    "colab": {
     "base_uri": "https://localhost:8080/",
     "height": 408
    },
    "id": "6USqrESAJJl9",
    "outputId": "0dad4ad0-9d36-4457-9677-04617a7f8274"
   },
   "outputs": [
    {
     "data": {
      "text/html": [
       "<div>\n",
       "<style scoped>\n",
       "    .dataframe tbody tr th:only-of-type {\n",
       "        vertical-align: middle;\n",
       "    }\n",
       "\n",
       "    .dataframe tbody tr th {\n",
       "        vertical-align: top;\n",
       "    }\n",
       "\n",
       "    .dataframe thead th {\n",
       "        text-align: right;\n",
       "    }\n",
       "</style>\n",
       "<table border=\"1\" class=\"dataframe\">\n",
       "  <thead>\n",
       "    <tr style=\"text-align: right;\">\n",
       "      <th></th>\n",
       "      <th>id</th>\n",
       "      <th>nome</th>\n",
       "      <th>capacidade</th>\n",
       "    </tr>\n",
       "  </thead>\n",
       "  <tbody>\n",
       "  </tbody>\n",
       "</table>\n",
       "</div>"
      ],
      "text/plain": [
       "Empty DataFrame\n",
       "Columns: [id, nome, capacidade]\n",
       "Index: []"
      ]
     },
     "metadata": {},
     "output_type": "display_data"
    }
   ],
   "source": [
    "q2 = \"SELECT * FROM salas WHERE capacidade > 150\"\n",
    "#NÃO ALTERE AS LINHAS ABAIXO\n",
    "runQuery(q2, \"q2\")"
   ]
  },
  {
   "cell_type": "markdown",
   "metadata": {},
   "source": [
    "<b>B2</b> Seleciona as sessões com o operador <I>SELECT</I> e filtra com operador <I>WHERE</I> as que com horário de exibição após ás 18 horas"
   ]
  },
  {
   "cell_type": "markdown",
   "metadata": {
    "id": "d9XKVY69JJKu"
   },
   "source": [
    "q3 = \"SELECT * FROM sessoes WHERE TIME(data_hora) > '18:00'\"\n",
    "#NÃO ALTERE AS LINHAS ABAIXO\n",
    "runQuery(q3, \"q3\")"
   ]
  },
  {
   "cell_type": "markdown",
   "metadata": {},
   "source": [
    "<b>B3</b> Seleciona o nome de todos os clientes que compraram ingressos com o operador <I>SELECT</I> e quantifica com operador <I>GROUP BY</I> o número de ingressos por cliente."
   ]
  },
  {
   "cell_type": "code",
   "execution_count": 27,
   "metadata": {
    "id": "FgGtoeqfJOC8"
   },
   "outputs": [
    {
     "data": {
      "text/html": [
       "<div>\n",
       "<style scoped>\n",
       "    .dataframe tbody tr th:only-of-type {\n",
       "        vertical-align: middle;\n",
       "    }\n",
       "\n",
       "    .dataframe tbody tr th {\n",
       "        vertical-align: top;\n",
       "    }\n",
       "\n",
       "    .dataframe thead th {\n",
       "        text-align: right;\n",
       "    }\n",
       "</style>\n",
       "<table border=\"1\" class=\"dataframe\">\n",
       "  <thead>\n",
       "    <tr style=\"text-align: right;\">\n",
       "      <th></th>\n",
       "      <th>nome</th>\n",
       "      <th>count(*)</th>\n",
       "    </tr>\n",
       "  </thead>\n",
       "  <tbody>\n",
       "    <tr>\n",
       "      <th>0</th>\n",
       "      <td>Alice</td>\n",
       "      <td>1</td>\n",
       "    </tr>\n",
       "    <tr>\n",
       "      <th>1</th>\n",
       "      <td>Bruno</td>\n",
       "      <td>1</td>\n",
       "    </tr>\n",
       "    <tr>\n",
       "      <th>2</th>\n",
       "      <td>Carla</td>\n",
       "      <td>1</td>\n",
       "    </tr>\n",
       "  </tbody>\n",
       "</table>\n",
       "</div>"
      ],
      "text/plain": [
       "    nome  count(*)\n",
       "0  Alice         1\n",
       "1  Bruno         1\n",
       "2  Carla         1"
      ]
     },
     "metadata": {},
     "output_type": "display_data"
    }
   ],
   "source": [
    "q4 = \"SELECT clientes.nome,count(*) FROM clientes JOIN ingressos ON clientes.id = ingressos.cliente_id GROUP BY clientes.id HAVING count(*)\"\n",
    "#NÃO ALTERE AS LINHAS ABAIXO\n",
    "runQuery(q4, \"q4\")"
   ]
  },
  {
   "cell_type": "markdown",
   "metadata": {},
   "source": [
    "<b>B4</b> Seleciona id de todas sessões com o operador <I>SELECT</I> e quantifica com operador <I>GROUP BY</I> o a média do preço dos ingressos por sessão."
   ]
  },
  {
   "cell_type": "code",
   "execution_count": 28,
   "metadata": {
    "id": "86wdM8M3JOSy"
   },
   "outputs": [
    {
     "data": {
      "text/html": [
       "<div>\n",
       "<style scoped>\n",
       "    .dataframe tbody tr th:only-of-type {\n",
       "        vertical-align: middle;\n",
       "    }\n",
       "\n",
       "    .dataframe tbody tr th {\n",
       "        vertical-align: top;\n",
       "    }\n",
       "\n",
       "    .dataframe thead th {\n",
       "        text-align: right;\n",
       "    }\n",
       "</style>\n",
       "<table border=\"1\" class=\"dataframe\">\n",
       "  <thead>\n",
       "    <tr style=\"text-align: right;\">\n",
       "      <th></th>\n",
       "      <th>id</th>\n",
       "      <th>avg(sessoes.preco_ingresso)</th>\n",
       "    </tr>\n",
       "  </thead>\n",
       "  <tbody>\n",
       "    <tr>\n",
       "      <th>0</th>\n",
       "      <td>2</td>\n",
       "      <td>15.5</td>\n",
       "    </tr>\n",
       "    <tr>\n",
       "      <th>1</th>\n",
       "      <td>1</td>\n",
       "      <td>20.0</td>\n",
       "    </tr>\n",
       "    <tr>\n",
       "      <th>2</th>\n",
       "      <td>3</td>\n",
       "      <td>25.0</td>\n",
       "    </tr>\n",
       "  </tbody>\n",
       "</table>\n",
       "</div>"
      ],
      "text/plain": [
       "   id  avg(sessoes.preco_ingresso)\n",
       "0   2                         15.5\n",
       "1   1                         20.0\n",
       "2   3                         25.0"
      ]
     },
     "metadata": {},
     "output_type": "display_data"
    }
   ],
   "source": [
    "q5 = \"SELECT sessoes.id, avg(sessoes.preco_ingresso) FROM sessoes JOIN ingressos ON sessoes.id = ingressos.sessao_id GROUP BY sessoes.preco_ingresso HAVING avg(sessoes.preco_ingresso)\"\n",
    "#NÃO ALTERE AS LINHAS ABAIXO\n",
    "runQuery(q5, \"q5\")"
   ]
  },
  {
   "cell_type": "markdown",
   "metadata": {},
   "source": [
    "<b>B5</b> Seleciona as sessoes com o operador <I>SELECT</I>. Utiliza o operador <I>LEFT JOIN</I> para combinar as tabelas sessões e ingressos, exibindo as sessões que não tiveram ingressos vendidos."
   ]
  },
  {
   "cell_type": "code",
   "execution_count": 29,
   "metadata": {
    "id": "edYyqGoCJOXy"
   },
   "outputs": [
    {
     "data": {
      "text/html": [
       "<div>\n",
       "<style scoped>\n",
       "    .dataframe tbody tr th:only-of-type {\n",
       "        vertical-align: middle;\n",
       "    }\n",
       "\n",
       "    .dataframe tbody tr th {\n",
       "        vertical-align: top;\n",
       "    }\n",
       "\n",
       "    .dataframe thead th {\n",
       "        text-align: right;\n",
       "    }\n",
       "</style>\n",
       "<table border=\"1\" class=\"dataframe\">\n",
       "  <thead>\n",
       "    <tr style=\"text-align: right;\">\n",
       "      <th></th>\n",
       "      <th>id</th>\n",
       "      <th>filme_id</th>\n",
       "      <th>sala_id</th>\n",
       "      <th>data_hora</th>\n",
       "      <th>preco_ingresso</th>\n",
       "    </tr>\n",
       "  </thead>\n",
       "  <tbody>\n",
       "  </tbody>\n",
       "</table>\n",
       "</div>"
      ],
      "text/plain": [
       "Empty DataFrame\n",
       "Columns: [id, filme_id, sala_id, data_hora, preco_ingresso]\n",
       "Index: []"
      ]
     },
     "metadata": {},
     "output_type": "display_data"
    }
   ],
   "source": [
    "q6 = \"SELECT sessoes.* FROM sessoes,ingressos LEFT JOIN ingressos AS i ON sessoes.id = i.sessao_id WHERE i.sessao_id IS NULL\"\n",
    "#NÃO ALTERE AS LINHAS ABAIXO\n",
    "runQuery(q6, \"q6\")"
   ]
  },
  {
   "cell_type": "markdown",
   "metadata": {},
   "source": [
    "<b>B6</b> Seleciona os filmes com mais de 3 sessões com o operador <I>SELECT</I> e quantifica com operador <I>GROUP BY</I> a quantidade de sessões por filme."
   ]
  },
  {
   "cell_type": "code",
   "execution_count": 30,
   "metadata": {
    "id": "7S3rNj7fJOaU"
   },
   "outputs": [
    {
     "data": {
      "text/html": [
       "<div>\n",
       "<style scoped>\n",
       "    .dataframe tbody tr th:only-of-type {\n",
       "        vertical-align: middle;\n",
       "    }\n",
       "\n",
       "    .dataframe tbody tr th {\n",
       "        vertical-align: top;\n",
       "    }\n",
       "\n",
       "    .dataframe thead th {\n",
       "        text-align: right;\n",
       "    }\n",
       "</style>\n",
       "<table border=\"1\" class=\"dataframe\">\n",
       "  <thead>\n",
       "    <tr style=\"text-align: right;\">\n",
       "      <th></th>\n",
       "      <th>id</th>\n",
       "      <th>titulo</th>\n",
       "      <th>genero</th>\n",
       "      <th>duracao</th>\n",
       "      <th>classificacao_indicativa</th>\n",
       "    </tr>\n",
       "  </thead>\n",
       "  <tbody>\n",
       "  </tbody>\n",
       "</table>\n",
       "</div>"
      ],
      "text/plain": [
       "Empty DataFrame\n",
       "Columns: [id, titulo, genero, duracao, classificacao_indicativa]\n",
       "Index: []"
      ]
     },
     "metadata": {},
     "output_type": "display_data"
    }
   ],
   "source": [
    "q7 = \"SELECT filmes.* FROM filmes JOIN sessoes ON filmes.id = sessoes.filme_id GROUP BY filmes.id HAVING count(*) AND count(*) > 3\"\n",
    "#NÃO ALTERE AS LINHAS ABAIXO\n",
    "runQuery(q7, \"q7\")"
   ]
  },
  {
   "cell_type": "markdown",
   "metadata": {},
   "source": [
    "<b>B7</b> Seleciona os clientes com o operador <I>SELECT</I>. Utiliza o operador <I>JOIN</I> para combinar as tabelas clientes,ingressos e sessões, e filtra com operador <I>WHERE</I> os clientes que compraram ingressos para assistir filmes do gênero drama."
   ]
  },
  {
   "cell_type": "code",
   "execution_count": 31,
   "metadata": {
    "id": "0I2xuul5JOce"
   },
   "outputs": [
    {
     "data": {
      "text/html": [
       "<div>\n",
       "<style scoped>\n",
       "    .dataframe tbody tr th:only-of-type {\n",
       "        vertical-align: middle;\n",
       "    }\n",
       "\n",
       "    .dataframe tbody tr th {\n",
       "        vertical-align: top;\n",
       "    }\n",
       "\n",
       "    .dataframe thead th {\n",
       "        text-align: right;\n",
       "    }\n",
       "</style>\n",
       "<table border=\"1\" class=\"dataframe\">\n",
       "  <thead>\n",
       "    <tr style=\"text-align: right;\">\n",
       "      <th></th>\n",
       "      <th>id</th>\n",
       "      <th>nome</th>\n",
       "      <th>email</th>\n",
       "      <th>data_nascimento</th>\n",
       "    </tr>\n",
       "  </thead>\n",
       "  <tbody>\n",
       "    <tr>\n",
       "      <th>0</th>\n",
       "      <td>3</td>\n",
       "      <td>Carla</td>\n",
       "      <td>carla@email.com</td>\n",
       "      <td>2003-11-23</td>\n",
       "    </tr>\n",
       "  </tbody>\n",
       "</table>\n",
       "</div>"
      ],
      "text/plain": [
       "   id   nome            email data_nascimento\n",
       "0   3  Carla  carla@email.com      2003-11-23"
      ]
     },
     "metadata": {},
     "output_type": "display_data"
    }
   ],
   "source": [
    "q8 = \"SELECT clientes.* FROM filmes JOIN sessoes ON filmes.id = sessoes.filme_id JOIN ingressos ON sessoes.id = ingressos.sessao_id JOIN clientes ON ingressos.cliente_id = clientes.id WHERE filmes.genero ='Drama'\"\n",
    "#NÃO ALTERE AS LINHAS ABAIXO\n",
    "runQuery(q8, \"q8\")"
   ]
  },
  {
   "cell_type": "markdown",
   "metadata": {},
   "source": [
    "<b>B8</b> Seleciona as sessoes com o operador <I>SELECT</I>. Utiliza o operador <I>JOIN</I> para combinar as tabelas filmes e sessões, e filtra com operador <I>WHERE</I> as sessões com titulo 'Vingadores Ultimato'."
   ]
  },
  {
   "cell_type": "code",
   "execution_count": 32,
   "metadata": {
    "id": "L475F4fUJOei"
   },
   "outputs": [
    {
     "data": {
      "text/html": [
       "<div>\n",
       "<style scoped>\n",
       "    .dataframe tbody tr th:only-of-type {\n",
       "        vertical-align: middle;\n",
       "    }\n",
       "\n",
       "    .dataframe tbody tr th {\n",
       "        vertical-align: top;\n",
       "    }\n",
       "\n",
       "    .dataframe thead th {\n",
       "        text-align: right;\n",
       "    }\n",
       "</style>\n",
       "<table border=\"1\" class=\"dataframe\">\n",
       "  <thead>\n",
       "    <tr style=\"text-align: right;\">\n",
       "      <th></th>\n",
       "      <th>id</th>\n",
       "      <th>filme_id</th>\n",
       "      <th>sala_id</th>\n",
       "      <th>data_hora</th>\n",
       "      <th>preco_ingresso</th>\n",
       "    </tr>\n",
       "  </thead>\n",
       "  <tbody>\n",
       "    <tr>\n",
       "      <th>0</th>\n",
       "      <td>1</td>\n",
       "      <td>1</td>\n",
       "      <td>1</td>\n",
       "      <td>2025-05-12 19:30</td>\n",
       "      <td>20.0</td>\n",
       "    </tr>\n",
       "  </tbody>\n",
       "</table>\n",
       "</div>"
      ],
      "text/plain": [
       "   id  filme_id  sala_id         data_hora  preco_ingresso\n",
       "0   1         1        1  2025-05-12 19:30            20.0"
      ]
     },
     "metadata": {},
     "output_type": "display_data"
    }
   ],
   "source": [
    "q9 = \"SELECT sessoes.* FROM filmes JOIN sessoes ON sessoes.filme_id = filmes.id WHERE filmes.titulo LIKE 'Vingadores Ultimato' \"\n",
    "#NÃO ALTERE AS LINHAS ABAIXO\n",
    "runQuery(q9, \"q9\")"
   ]
  },
  {
   "cell_type": "markdown",
   "metadata": {},
   "source": [
    "<b>B9</b> Seleciona o dia como mais sessoes com o operador <I>SELECT</I> e quantifica com operador <I>GROUP BY</I> a quantidade de sessões por de dia."
   ]
  },
  {
   "cell_type": "code",
   "execution_count": 33,
   "metadata": {
    "id": "D6IAlQow3DM8"
   },
   "outputs": [
    {
     "data": {
      "text/html": [
       "<div>\n",
       "<style scoped>\n",
       "    .dataframe tbody tr th:only-of-type {\n",
       "        vertical-align: middle;\n",
       "    }\n",
       "\n",
       "    .dataframe tbody tr th {\n",
       "        vertical-align: top;\n",
       "    }\n",
       "\n",
       "    .dataframe thead th {\n",
       "        text-align: right;\n",
       "    }\n",
       "</style>\n",
       "<table border=\"1\" class=\"dataframe\">\n",
       "  <thead>\n",
       "    <tr style=\"text-align: right;\">\n",
       "      <th></th>\n",
       "      <th>data</th>\n",
       "      <th>MAX(total)</th>\n",
       "    </tr>\n",
       "  </thead>\n",
       "  <tbody>\n",
       "    <tr>\n",
       "      <th>0</th>\n",
       "      <td>2025-05-10</td>\n",
       "      <td>3</td>\n",
       "    </tr>\n",
       "  </tbody>\n",
       "</table>\n",
       "</div>"
      ],
      "text/plain": [
       "         data  MAX(total)\n",
       "0  2025-05-10           3"
      ]
     },
     "metadata": {},
     "output_type": "display_data"
    }
   ],
   "source": [
    "q10 = \"SELECT data_sessoes.data, MAX(total) FROM(SELECT ingressos.data_compra AS data,count(*) AS total FROM ingressos GROUP BY TIME(ingressos.data_compra) HAVING count(*)) AS data_sessoes\"\n",
    "#NÃO ALTERE AS LINHAS ABAIXO\n",
    "runQuery(q10, \"q10\")"
   ]
  },
  {
   "cell_type": "markdown",
   "metadata": {},
   "source": [
    "# PARTE 3 - Personalização por Matrícula"
   ]
  },
  {
   "cell_type": "markdown",
   "metadata": {},
   "source": [
    "A entidade <b>trailer</b> possui como chave estrangeira composta pelo identificador do filme referente ao trailer e pelo identificador da sessão em que ele será exibido. Além disso, inclui o atributo <i>duracao_trailer</i>, do tipo INTEGER e não nulo."
   ]
  },
  {
   "cell_type": "markdown",
   "metadata": {},
   "source": [
    "### 1. Crie uma nova tabela e, se necessário, altere as demais existentes"
   ]
  },
  {
   "cell_type": "code",
   "execution_count": 34,
   "metadata": {
    "scrolled": true
   },
   "outputs": [
    {
     "ename": "DatabaseError",
     "evalue": "Execution failed on sql 'CREATE TABLE trailer (trailer_filme_id INTEGER NOT NULL REFERENCES filmes(id) ON DELETE CASCADE,sessao_id INTEGER NOT NULL REFERENCES sessoes(id),duracao_trailer INTEGER, PRIMARY KEY(trailer_filme_id, sessao_id))': table trailer already exists",
     "output_type": "error",
     "traceback": [
      "\u001b[1;31m---------------------------------------------------------------------------\u001b[0m",
      "\u001b[1;31mOperationalError\u001b[0m                          Traceback (most recent call last)",
      "File \u001b[1;32m~\\OneDrive\\Documentos\\Coding\\anaconda3\\Lib\\site-packages\\pandas\\io\\sql.py:2018\u001b[0m, in \u001b[0;36mSQLiteDatabase.execute\u001b[1;34m(self, *args, **kwargs)\u001b[0m\n\u001b[0;32m   2017\u001b[0m \u001b[38;5;28;01mtry\u001b[39;00m:\n\u001b[1;32m-> 2018\u001b[0m     cur\u001b[38;5;241m.\u001b[39mexecute(\u001b[38;5;241m*\u001b[39margs, \u001b[38;5;241m*\u001b[39m\u001b[38;5;241m*\u001b[39mkwargs)\n\u001b[0;32m   2019\u001b[0m     \u001b[38;5;28;01mreturn\u001b[39;00m cur\n",
      "\u001b[1;31mOperationalError\u001b[0m: table trailer already exists",
      "\nThe above exception was the direct cause of the following exception:\n",
      "\u001b[1;31mDatabaseError\u001b[0m                             Traceback (most recent call last)",
      "Cell \u001b[1;32mIn[34], line 6\u001b[0m\n\u001b[0;32m      4\u001b[0m pm0 \u001b[38;5;241m=\u001b[39m \u001b[38;5;124m\"\u001b[39m\u001b[38;5;124mCREATE TABLE trailer (trailer_filme_id INTEGER NOT NULL REFERENCES filmes(id) ON DELETE CASCADE,sessao_id INTEGER NOT NULL REFERENCES sessoes(id),duracao_trailer INTEGER, PRIMARY KEY(trailer_filme_id, sessao_id))\u001b[39m\u001b[38;5;124m\"\u001b[39m\n\u001b[0;32m      5\u001b[0m \u001b[38;5;66;03m#NÃO ALTERE AS LINHAS ABAIXO\u001b[39;00m\n\u001b[1;32m----> 6\u001b[0m runQuery(pm0, \u001b[38;5;124m\"\u001b[39m\u001b[38;5;124mpm0\u001b[39m\u001b[38;5;124m\"\u001b[39m)\n",
      "Cell \u001b[1;32mIn[13], line 3\u001b[0m, in \u001b[0;36mrunQuery\u001b[1;34m(query, query_name)\u001b[0m\n\u001b[0;32m      2\u001b[0m \u001b[38;5;28;01mdef\u001b[39;00m \u001b[38;5;21mrunQuery\u001b[39m(query, query_name):\n\u001b[1;32m----> 3\u001b[0m   df \u001b[38;5;241m=\u001b[39m pd\u001b[38;5;241m.\u001b[39mread_sql(query, con)\n\u001b[0;32m      4\u001b[0m   query_size \u001b[38;5;241m=\u001b[39m df\u001b[38;5;241m.\u001b[39mshape\n\u001b[0;32m      5\u001b[0m   writer\u001b[38;5;241m.\u001b[39mwriterow([query_name, query_size])\n",
      "File \u001b[1;32m~\\OneDrive\\Documentos\\Coding\\anaconda3\\Lib\\site-packages\\pandas\\io\\sql.py:564\u001b[0m, in \u001b[0;36mread_sql\u001b[1;34m(sql, con, index_col, coerce_float, params, parse_dates, columns, chunksize)\u001b[0m\n\u001b[0;32m    561\u001b[0m pandas_sql \u001b[38;5;241m=\u001b[39m pandasSQL_builder(con)\n\u001b[0;32m    563\u001b[0m \u001b[38;5;28;01mif\u001b[39;00m \u001b[38;5;28misinstance\u001b[39m(pandas_sql, SQLiteDatabase):\n\u001b[1;32m--> 564\u001b[0m     \u001b[38;5;28;01mreturn\u001b[39;00m pandas_sql\u001b[38;5;241m.\u001b[39mread_query(\n\u001b[0;32m    565\u001b[0m         sql,\n\u001b[0;32m    566\u001b[0m         index_col\u001b[38;5;241m=\u001b[39mindex_col,\n\u001b[0;32m    567\u001b[0m         params\u001b[38;5;241m=\u001b[39mparams,\n\u001b[0;32m    568\u001b[0m         coerce_float\u001b[38;5;241m=\u001b[39mcoerce_float,\n\u001b[0;32m    569\u001b[0m         parse_dates\u001b[38;5;241m=\u001b[39mparse_dates,\n\u001b[0;32m    570\u001b[0m         chunksize\u001b[38;5;241m=\u001b[39mchunksize,\n\u001b[0;32m    571\u001b[0m     )\n\u001b[0;32m    573\u001b[0m \u001b[38;5;28;01mtry\u001b[39;00m:\n\u001b[0;32m    574\u001b[0m     _is_table_name \u001b[38;5;241m=\u001b[39m pandas_sql\u001b[38;5;241m.\u001b[39mhas_table(sql)\n",
      "File \u001b[1;32m~\\OneDrive\\Documentos\\Coding\\anaconda3\\Lib\\site-packages\\pandas\\io\\sql.py:2078\u001b[0m, in \u001b[0;36mSQLiteDatabase.read_query\u001b[1;34m(self, sql, index_col, coerce_float, params, parse_dates, chunksize, dtype)\u001b[0m\n\u001b[0;32m   2066\u001b[0m \u001b[38;5;28;01mdef\u001b[39;00m \u001b[38;5;21mread_query\u001b[39m(\n\u001b[0;32m   2067\u001b[0m     \u001b[38;5;28mself\u001b[39m,\n\u001b[0;32m   2068\u001b[0m     sql,\n\u001b[1;32m   (...)\u001b[0m\n\u001b[0;32m   2074\u001b[0m     dtype: DtypeArg \u001b[38;5;241m|\u001b[39m \u001b[38;5;28;01mNone\u001b[39;00m \u001b[38;5;241m=\u001b[39m \u001b[38;5;28;01mNone\u001b[39;00m,\n\u001b[0;32m   2075\u001b[0m ) \u001b[38;5;241m-\u001b[39m\u001b[38;5;241m>\u001b[39m DataFrame \u001b[38;5;241m|\u001b[39m Iterator[DataFrame]:\n\u001b[0;32m   2077\u001b[0m     args \u001b[38;5;241m=\u001b[39m _convert_params(sql, params)\n\u001b[1;32m-> 2078\u001b[0m     cursor \u001b[38;5;241m=\u001b[39m \u001b[38;5;28mself\u001b[39m\u001b[38;5;241m.\u001b[39mexecute(\u001b[38;5;241m*\u001b[39margs)\n\u001b[0;32m   2079\u001b[0m     columns \u001b[38;5;241m=\u001b[39m [col_desc[\u001b[38;5;241m0\u001b[39m] \u001b[38;5;28;01mfor\u001b[39;00m col_desc \u001b[38;5;129;01min\u001b[39;00m cursor\u001b[38;5;241m.\u001b[39mdescription]\n\u001b[0;32m   2081\u001b[0m     \u001b[38;5;28;01mif\u001b[39;00m chunksize \u001b[38;5;129;01mis\u001b[39;00m \u001b[38;5;129;01mnot\u001b[39;00m \u001b[38;5;28;01mNone\u001b[39;00m:\n",
      "File \u001b[1;32m~\\OneDrive\\Documentos\\Coding\\anaconda3\\Lib\\site-packages\\pandas\\io\\sql.py:2030\u001b[0m, in \u001b[0;36mSQLiteDatabase.execute\u001b[1;34m(self, *args, **kwargs)\u001b[0m\n\u001b[0;32m   2027\u001b[0m     \u001b[38;5;28;01mraise\u001b[39;00m ex \u001b[38;5;28;01mfrom\u001b[39;00m \u001b[38;5;21;01minner_exc\u001b[39;00m\n\u001b[0;32m   2029\u001b[0m ex \u001b[38;5;241m=\u001b[39m DatabaseError(\u001b[38;5;124mf\u001b[39m\u001b[38;5;124m\"\u001b[39m\u001b[38;5;124mExecution failed on sql \u001b[39m\u001b[38;5;124m'\u001b[39m\u001b[38;5;132;01m{\u001b[39;00margs[\u001b[38;5;241m0\u001b[39m]\u001b[38;5;132;01m}\u001b[39;00m\u001b[38;5;124m'\u001b[39m\u001b[38;5;124m: \u001b[39m\u001b[38;5;132;01m{\u001b[39;00mexc\u001b[38;5;132;01m}\u001b[39;00m\u001b[38;5;124m\"\u001b[39m)\n\u001b[1;32m-> 2030\u001b[0m \u001b[38;5;28;01mraise\u001b[39;00m ex \u001b[38;5;28;01mfrom\u001b[39;00m \u001b[38;5;21;01mexc\u001b[39;00m\n",
      "\u001b[1;31mDatabaseError\u001b[0m: Execution failed on sql 'CREATE TABLE trailer (trailer_filme_id INTEGER NOT NULL REFERENCES filmes(id) ON DELETE CASCADE,sessao_id INTEGER NOT NULL REFERENCES sessoes(id),duracao_trailer INTEGER, PRIMARY KEY(trailer_filme_id, sessao_id))': table trailer already exists"
     ]
    }
   ],
   "source": [
    "#GERA ERRO: 'TypeError: 'NoneType' object is not iterable', no entanto é possível criar a tabela. Caso 'table trailer already exists' retire o comentário da linha a seguir:\n",
    "#pm0 = \"DROP TABLE trailer\"\n",
    "\n",
    "pm0 = \"CREATE TABLE trailer (trailer_filme_id INTEGER NOT NULL REFERENCES filmes(id) ON DELETE CASCADE,sessao_id INTEGER NOT NULL REFERENCES sessoes(id),duracao_trailer INTEGER, PRIMARY KEY(trailer_filme_id, sessao_id))\"\n",
    "#NÃO ALTERE AS LINHAS ABAIXO\n",
    "runQuery(pm0, \"pm0\")"
   ]
  },
  {
   "cell_type": "code",
   "execution_count": 35,
   "metadata": {},
   "outputs": [
    {
     "data": {
      "text/plain": [
       "<sqlite3.Cursor at 0x1fd3ca39a40>"
      ]
     },
     "execution_count": 35,
     "metadata": {},
     "output_type": "execute_result"
    }
   ],
   "source": [
    "trailer = [\n",
    "    (1, 2, 10),\n",
    "    (2, 1, 9),\n",
    "    (2, 3, 15)\n",
    "]\n",
    "\n",
    "cur.executemany(\"INSERT INTO trailer VALUES (?, ?, ?)\", trailer)"
   ]
  },
  {
   "cell_type": "markdown",
   "metadata": {},
   "source": [
    "### 2. Insira aqui a consulta SQL pedida pelo seu número de matrícula"
   ]
  },
  {
   "cell_type": "code",
   "execution_count": 36,
   "metadata": {},
   "outputs": [
    {
     "data": {
      "text/html": [
       "<div>\n",
       "<style scoped>\n",
       "    .dataframe tbody tr th:only-of-type {\n",
       "        vertical-align: middle;\n",
       "    }\n",
       "\n",
       "    .dataframe tbody tr th {\n",
       "        vertical-align: top;\n",
       "    }\n",
       "\n",
       "    .dataframe thead th {\n",
       "        text-align: right;\n",
       "    }\n",
       "</style>\n",
       "<table border=\"1\" class=\"dataframe\">\n",
       "  <thead>\n",
       "    <tr style=\"text-align: right;\">\n",
       "      <th></th>\n",
       "      <th>titulo_trailer</th>\n",
       "      <th>momento_sessao</th>\n",
       "      <th>titulo_sessao</th>\n",
       "    </tr>\n",
       "  </thead>\n",
       "  <tbody>\n",
       "    <tr>\n",
       "      <th>0</th>\n",
       "      <td>Vingadores Ultimato</td>\n",
       "      <td>2025-05-13 14:00</td>\n",
       "      <td>Toy Story</td>\n",
       "    </tr>\n",
       "    <tr>\n",
       "      <th>1</th>\n",
       "      <td>Toy Story</td>\n",
       "      <td>2025-05-12 19:30</td>\n",
       "      <td>Vingadores Ultimato</td>\n",
       "    </tr>\n",
       "    <tr>\n",
       "      <th>2</th>\n",
       "      <td>Toy Story</td>\n",
       "      <td>2025-05-14 21:00</td>\n",
       "      <td>O Poderoso Chefão</td>\n",
       "    </tr>\n",
       "  </tbody>\n",
       "</table>\n",
       "</div>"
      ],
      "text/plain": [
       "        titulo_trailer    momento_sessao        titulo_sessao\n",
       "0  Vingadores Ultimato  2025-05-13 14:00            Toy Story\n",
       "1            Toy Story  2025-05-12 19:30  Vingadores Ultimato\n",
       "2            Toy Story  2025-05-14 21:00    O Poderoso Chefão"
      ]
     },
     "metadata": {},
     "output_type": "display_data"
    }
   ],
   "source": [
    "#Títulos dos filmes mostrados nos trailers e títulos e momentos das sessões em que eles foram exibidos\n",
    "pm1 = \"SELECT filme_trailer.titulo_trailer,filme_trailer.momento_sessao, filmes.titulo AS titulo_sessao FROM(SELECT filmes.titulo AS titulo_trailer, sessoes.data_hora AS momento_sessao, sessoes.filme_id AS filme_id_sessao FROM (trailer JOIN filmes ON trailer.trailer_filme_id = filmes.id JOIN sessoes ON trailer.sessao_id = sessoes.id)) AS filme_trailer JOIN filmes ON filme_trailer.filme_id_sessao = filmes.id\"\n",
    "#NÃO ALTERE AS LINHAS ABAIXO\n",
    "runQuery(pm1, \"pm1\")"
   ]
  },
  {
   "cell_type": "code",
   "execution_count": 37,
   "metadata": {},
   "outputs": [
    {
     "data": {
      "text/html": [
       "<div>\n",
       "<style scoped>\n",
       "    .dataframe tbody tr th:only-of-type {\n",
       "        vertical-align: middle;\n",
       "    }\n",
       "\n",
       "    .dataframe tbody tr th {\n",
       "        vertical-align: top;\n",
       "    }\n",
       "\n",
       "    .dataframe thead th {\n",
       "        text-align: right;\n",
       "    }\n",
       "</style>\n",
       "<table border=\"1\" class=\"dataframe\">\n",
       "  <thead>\n",
       "    <tr style=\"text-align: right;\">\n",
       "      <th></th>\n",
       "      <th>id</th>\n",
       "      <th>titulo</th>\n",
       "      <th>genero</th>\n",
       "      <th>duracao</th>\n",
       "      <th>classificacao_indicativa</th>\n",
       "    </tr>\n",
       "  </thead>\n",
       "  <tbody>\n",
       "    <tr>\n",
       "      <th>0</th>\n",
       "      <td>3</td>\n",
       "      <td>O Poderoso Chefão</td>\n",
       "      <td>Drama</td>\n",
       "      <td>175</td>\n",
       "      <td>18</td>\n",
       "    </tr>\n",
       "  </tbody>\n",
       "</table>\n",
       "</div>"
      ],
      "text/plain": [
       "   id             titulo genero  duracao  classificacao_indicativa\n",
       "0   3  O Poderoso Chefão  Drama      175                        18"
      ]
     },
     "metadata": {},
     "output_type": "display_data"
    }
   ],
   "source": [
    "#Filmes em exibição que não tem trailer\n",
    "pm2 = \"SELECT filmes.* FROM trailer RIGHT JOIN filmes ON trailer.trailer_filme_id = filmes.id WHERE trailer.sessao_id IS NULL\"\n",
    "#NÃO ALTERE AS LINHAS ABAIXO\n",
    "runQuery(pm2, \"pm2\")"
   ]
  },
  {
   "cell_type": "markdown",
   "metadata": {
    "id": "xqbHWlAJAF_M"
   },
   "source": [
    "# Finalizando o Banco de Dados e o Arquivo de Consultas gerado:"
   ]
  },
  {
   "cell_type": "code",
   "execution_count": 38,
   "metadata": {
    "id": "liMikAbtIauA"
   },
   "outputs": [],
   "source": [
    "#NÃO ALTERE AS LINHAS ABAIXO\n",
    "queries.close()\n",
    "con.close()"
   ]
  },
  {
   "cell_type": "markdown",
   "metadata": {
    "id": "ZpgeqGXs7TUp"
   },
   "source": [
    "## Compactando Arquivos\n",
    "Na célula abaixo, substitua onde está escrito MATRÍCULA pelo seu número de matrícula."
   ]
  },
  {
   "cell_type": "code",
   "execution_count": 39,
   "metadata": {
    "id": "a_nL7tLM7k7q"
   },
   "outputs": [
    {
     "name": "stderr",
     "output_type": "stream",
     "text": [
      "'zip' nÆo ‚ reconhecido como um comando interno\n",
      "ou externo, um programa oper vel ou um arquivo em lotes.\n"
     ]
    }
   ],
   "source": [
    "#ALTERE ONDE ESTÁ ESCRITO MATRICULA para o numero de sua Matrícula\n",
    "!zip -r \"2024024046.zip\" \"TP1_2024024046.ipynb\" \"2024024046.csv\""
   ]
  },
  {
   "cell_type": "markdown",
   "metadata": {
    "id": "2ftAbAxDWqG2"
   },
   "source": [
    "**LEMBRE-SE:** Após finalizar todas as consultas, clique em *Kernel -> Restart and Run All* no ambiente Jupyter!"
   ]
  }
 ],
 "metadata": {
  "colab": {
   "provenance": [],
   "toc_visible": true
  },
  "kernelspec": {
   "display_name": "Python 3 (ipykernel)",
   "language": "python",
   "name": "python3"
  },
  "language_info": {
   "codemirror_mode": {
    "name": "ipython",
    "version": 3
   },
   "file_extension": ".py",
   "mimetype": "text/x-python",
   "name": "python",
   "nbconvert_exporter": "python",
   "pygments_lexer": "ipython3",
   "version": "3.11.7"
  }
 },
 "nbformat": 4,
 "nbformat_minor": 4
}
