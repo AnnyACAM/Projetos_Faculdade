{
  "cells": [
    {
      "cell_type": "markdown",
      "metadata": {
        "id": "eBY8RGfz2E1j"
      },
      "source": [
        "# TRABALHO PRÁTICO 1\n"
      ]
    },
    {
      "cell_type": "markdown",
      "metadata": {
        "id": "TEgetfHo13ri"
      },
      "source": [
        "  O objetivo desse trabalho é avaliar a capacidade do aluno de gerar consultas em SQL a partir das questões propostas."
      ]
    },
    {
      "cell_type": "markdown",
      "metadata": {
        "id": "gQabrrBfOLLh"
      },
      "source": [
        "**IMPORTANTE**:\n",
        "\n",
        "1.   Altere apenas dentro das aspas duplas onde estiver escrito *Altere Aqui*.\n",
        "2.   Não serão necessárias alterações em funções ou outras partes do código.\n",
        "3.   Após finalizar todas as consultas, clique em *Kernel -> Restart and Run All* no ambiente Jupyter.\n",
        "4.   Altere o nome do arquivo *TP1_matricula.ipynb* adicionando o seu número de matrícula substituindo onde está escrito matrícula.\n",
        "5.   Um arquivo *.csv* com a sua matrícula será gerado automaticamente no diretório do ambiente.\n",
        "6.   Compactar os arquivos *TP1_matricula.ipynb* e *matricula.csv* em *matricula.zip* e submeter na tarefa criada para o TP1 via Moodle.\n",
        "\n",
        "\n",
        "\n"
      ]
    },
    {
      "cell_type": "code",
      "execution_count": null,
      "metadata": {
        "id": "FWT9E_95MXxg"
      },
      "outputs": [],
      "source": []
    },
    {
      "cell_type": "code",
      "execution_count": null,
      "metadata": {
        "colab": {
          "base_uri": "https://localhost:8080/"
        },
        "id": "6FnNsp038eNA",
        "outputId": "2a2c48ae-57e7-4cb7-a220-56b06d7abaeb"
      },
      "outputs": [],
      "source": [
        "#NÃO ALTERE AS LINHAS ABAIXO\n",
        "import sys\n",
        "!{sys.executable} -m pip install sqlite3\n",
        "!{sys.executable} -m pip install pandas\n",
        "!{sys.executable} -m pip install csv\n",
        "!{sys.executable} -m pip install gdown"
      ]
    },
    {
      "cell_type": "code",
      "execution_count": null,
      "metadata": {
        "id": "UTEN6eIxoIW2"
      },
      "outputs": [],
      "source": [
        "#NÃO ALTERE AS LINHAS ABAIXO\n",
        "import sqlite3 as sql3\n",
        "import pandas as pd\n",
        "import csv"
      ]
    },
    {
      "cell_type": "markdown",
      "metadata": {
        "id": "MZfJfrgrOdUz"
      },
      "source": [
        "## Banco de Dados"
      ]
    },
    {
      "cell_type": "code",
      "execution_count": null,
      "metadata": {},
      "outputs": [],
      "source": [
        "# Conectar ao banco de dados\n",
        "conn = sql3.connect(\"cineufmg.db\")\n",
        "cursor = conn.cursor()\n",
        "\n",
        "# Ler e executar o schema SQL\n",
        "with open(\"schema.sql\", \"r\", encoding=\"utf-8\") as f:\n",
        "    schema_sql = f.read()\n",
        "\n",
        "cursor.executescript(schema_sql)\n",
        "conn.commit()\n",
        "\n",
        "# Verificar as tabelas criadas\n",
        "tabelas = cursor.execute(\"SELECT name FROM sqlite_master WHERE type='table';\").fetchall()\n",
        "print(\"Tabelas criadas:\", [t[0] for t in tabelas])\n",
        "\n",
        "# Fechar conexão\n",
        "conn.close()"
      ]
    },
    {
      "cell_type": "code",
      "execution_count": null,
      "metadata": {
        "id": "DfPu88XYnWvM"
      },
      "outputs": [],
      "source": [
        "#NÃO ALTERE AS LINHAS ABAIXO\n",
        "con = sql3.connect(\"cineufmg.db\")\n",
        "cur = con.cursor()"
      ]
    },
    {
      "cell_type": "markdown",
      "metadata": {
        "id": "-3YwrO_-l2WZ"
      },
      "source": [
        "## Estrutura das Tabelas do Banco de Dados Despesas\n",
        "\n",
        "Nas células de 5 a 9 abaixo, estão listadas as informações referentes aos campos e tipos de dados relacionados a todas as tabelas do Banco de Dados Despesas:"
      ]
    },
    {
      "cell_type": "markdown",
      "metadata": {
        "id": "YNbhzCECo-cG"
      },
      "source": [
        "### TABELA FILMES"
      ]
    },
    {
      "cell_type": "code",
      "execution_count": null,
      "metadata": {
        "colab": {
          "base_uri": "https://localhost:8080/",
          "height": 206
        },
        "id": "8jkvRmLal28e",
        "outputId": "e7e10120-9a79-4047-bb70-8c7b591d28b2"
      },
      "outputs": [],
      "source": [
        "#NÃO ALTERE AS LINHAS ABAIXO\n",
        "query = \"PRAGMA table_info('filmes')\"\n",
        "df = pd.read_sql(query, con)\n",
        "display(df)"
      ]
    },
    {
      "cell_type": "markdown",
      "metadata": {
        "id": "8hfCV641pC9H"
      },
      "source": [
        "### TABELA SALAS"
      ]
    },
    {
      "cell_type": "code",
      "execution_count": null,
      "metadata": {
        "colab": {
          "base_uri": "https://localhost:8080/",
          "height": 206
        },
        "id": "KixV7M2lpIue",
        "outputId": "c9beb1ac-84f2-432d-857e-2c931af6813a"
      },
      "outputs": [],
      "source": [
        "#NÃO ALTERE AS LINHAS ABAIXO\n",
        "query = \"PRAGMA table_info('salas')\"\n",
        "df = pd.read_sql(query, con)\n",
        "display(df)"
      ]
    },
    {
      "cell_type": "markdown",
      "metadata": {
        "id": "D3Rt9RGApJIc"
      },
      "source": [
        "### TABELA SESSÕES"
      ]
    },
    {
      "cell_type": "code",
      "execution_count": null,
      "metadata": {
        "colab": {
          "base_uri": "https://localhost:8080/",
          "height": 488
        },
        "id": "ipQyCv7EpLif",
        "outputId": "ddc070d8-a79c-4809-ee2c-ac74d966da47"
      },
      "outputs": [],
      "source": [
        "#NÃO ALTERE AS LINHAS ABAIXO\n",
        "query = \"PRAGMA table_info('sessoes')\"\n",
        "df = pd.read_sql(query, con)\n",
        "display(df)"
      ]
    },
    {
      "cell_type": "markdown",
      "metadata": {
        "id": "OkYuOWLopLvH"
      },
      "source": [
        "### TABELA CLIENTES"
      ]
    },
    {
      "cell_type": "code",
      "execution_count": null,
      "metadata": {
        "colab": {
          "base_uri": "https://localhost:8080/",
          "height": 175
        },
        "id": "6OzRcTiOpN3j",
        "outputId": "3eabb2a8-ce42-4758-9f89-21e239cca8b7"
      },
      "outputs": [],
      "source": [
        "#NÃO ALTERE AS LINHAS ABAIXO\n",
        "query = \"PRAGMA table_info('clientes')\"\n",
        "df = pd.read_sql(query, con)\n",
        "display(df)"
      ]
    },
    {
      "cell_type": "markdown",
      "metadata": {
        "id": "mME1mUVIpODT"
      },
      "source": [
        "### TABELA INGRESSOS"
      ]
    },
    {
      "cell_type": "code",
      "execution_count": null,
      "metadata": {
        "colab": {
          "base_uri": "https://localhost:8080/",
          "height": 269
        },
        "id": "B6B4VS0QpRcO",
        "outputId": "7e361fc5-7484-46bb-fa3c-61e06eb68e03"
      },
      "outputs": [],
      "source": [
        "#NÃO ALTERE AS LINHAS ABAIXO\n",
        "query = \"PRAGMA table_info('ingressos')\"\n",
        "df = pd.read_sql(query, con)\n",
        "display(df)"
      ]
    },
    {
      "cell_type": "markdown",
      "metadata": {},
      "source": [
        "# População do DB\n",
        "\n",
        "Baseado no exemplo abaixo, incremente a população do seu banco de dados para verificar os resultados das consultas seguintes."
      ]
    },
    {
      "cell_type": "code",
      "execution_count": null,
      "metadata": {},
      "outputs": [],
      "source": [
        "filmes = [\n",
        "    (1, 'Vingadores Ultimato', 'Ação', 148, 14),\n",
        "    (2, 'Toy Story', 'Animação', 81, 0),\n",
        "    (3, 'O Poderoso Chefão', 'Drama', 175, 18)\n",
        "]\n",
        "\n",
        "salas = [\n",
        "    (1, 'Sala 1', 100),\n",
        "    (2, 'Sala 2', 80)\n",
        "]\n",
        "\n",
        "sessoes = [\n",
        "    (1, 1, 1, '2025-05-12 19:30', 20.0),\n",
        "    (2, 2, 2, '2025-05-13 14:00', 15.5),\n",
        "    (3, 3, 1, '2025-05-14 21:00', 25.0)\n",
        "]\n",
        "\n",
        "clientes = [\n",
        "    (1, 'Alice', 'alice@email.com', '2000-01-01'),\n",
        "    (2, 'Bruno', 'bruno@email.com', '1995-06-15'),\n",
        "    (3, 'Carla', 'carla@email.com', '2003-11-23')\n",
        "]\n",
        "\n",
        "ingressos = [\n",
        "    (1, 1, 1, '2025-05-10'),\n",
        "    (2, 2, 2, '2025-05-11'),\n",
        "    (3, 3, 3, '2025-05-12')\n",
        "]\n",
        "\n",
        "cur.executemany(\"INSERT INTO filmes VALUES (?, ?, ?, ?, ?)\", filmes)\n",
        "cur.executemany(\"INSERT INTO salas VALUES (?, ?, ?)\", salas)\n",
        "cur.executemany(\"INSERT INTO sessoes VALUES (?, ?, ?, ?, ?)\", sessoes)\n",
        "cur.executemany(\"INSERT INTO clientes VALUES (?, ?, ?, ?)\", clientes)\n",
        "cur.executemany(\"INSERT INTO ingressos VALUES (?, ?, ?, ?)\", ingressos)\n",
        "\n",
        "con.commit()\n",
        "\n",
        "# Visualizar os dados inseridos\n",
        "for tabela in ['filmes', 'salas', 'sessoes', 'clientes', 'ingressos']:\n",
        "    print(f\"\\nTabela: {tabela}\")\n",
        "    for row in cur.execute(f\"SELECT * FROM {tabela}\"):\n",
        "        print(row)"
      ]
    },
    {
      "cell_type": "markdown",
      "metadata": {
        "id": "yrtZ8sTRP3TB"
      },
      "source": [
        "## Arquivo de Resultados\n",
        "Na célula 10 abaixo, você irá colocar o numero da sua matrícula. Essa é a primeira alteração necessária para executar o TP. A partir das células 10 e 11, o arquivo de resultado será gerado.\n"
      ]
    },
    {
      "cell_type": "code",
      "execution_count": null,
      "metadata": {
        "id": "f5lLCbyiMjOF"
      },
      "outputs": [],
      "source": [
        "matricula = \"\""
      ]
    },
    {
      "cell_type": "code",
      "execution_count": null,
      "metadata": {
        "colab": {
          "base_uri": "https://localhost:8080/"
        },
        "id": "lIb4kAKSMkcT",
        "outputId": "66cc3af0-526f-4a68-ee8a-bf0e575afe65"
      },
      "outputs": [],
      "source": [
        "#NÃO ALTERE AS LINHAS ABAIXO\n",
        "tp1_csv = matricula+\".csv\"\n",
        "queries = open(tp1_csv, 'w')\n",
        "writer = csv.writer(queries)\n",
        "writer.writerow([\"Query Number\", \"Query Size\"])"
      ]
    },
    {
      "cell_type": "markdown",
      "metadata": {
        "id": "uhNxD8rdQNCh"
      },
      "source": [
        "## Função de Consulta\n",
        "A função abaixo executa a consulta, exibe o retorno da consulta no banco e grava os dados necessários no arquivo resultado."
      ]
    },
    {
      "cell_type": "code",
      "execution_count": null,
      "metadata": {
        "id": "_gPzai2DnYTB"
      },
      "outputs": [],
      "source": [
        "#NÃO ALTERE AS LINHAS ABAIXO\n",
        "def runQuery(query, query_name):\n",
        "  df = pd.read_sql(query, con)\n",
        "  query_size = df.shape\n",
        "  writer.writerow([query_name, query_size])\n",
        "  writer.writerow([query, df])\n",
        "  display(df)"
      ]
    },
    {
      "cell_type": "markdown",
      "metadata": {
        "id": "lRYyoTpcXfIV"
      },
      "source": [
        "## PARTE 1 - Transformar Algebra Relacional para SQL\n",
        "Abaixo, seguem as consultas que voce terá de transformar de Algebra Relacional para SQL. Altere **APENAS** o espaço entre as aspas. Dentro desse espaço é que você deverá digitar o comando de execução da consulta."
      ]
    },
    {
      "cell_type": "code",
      "execution_count": null,
      "metadata": {
        "colab": {
          "base_uri": "https://localhost:8080/",
          "height": 424
        },
        "id": "K0ISjW0gXxVC",
        "outputId": "ac341bfb-2d06-4283-d381-9dcffb3a9681"
      },
      "outputs": [],
      "source": [
        "a0 = \"SELECT * FROM filmes\"\n",
        "#NÃO ALTERE AS LINHAS ABAIXO\n",
        "runQuery(a0, \"a0\")"
      ]
    },
    {
      "cell_type": "code",
      "execution_count": null,
      "metadata": {
        "colab": {
          "base_uri": "https://localhost:8080/",
          "height": 408
        },
        "id": "JIUuV2_RXxhS",
        "outputId": "1efa732a-d9e6-4b8b-a278-85170af231db"
      },
      "outputs": [],
      "source": [
        "a1 = \"ALTERE AQUI - Digite a consulta SQL correspondente\"\n",
        "#NÃO ALTERE AS LINHAS ABAIXO\n",
        "runQuery(a1, \"a1\")"
      ]
    },
    {
      "cell_type": "code",
      "execution_count": null,
      "metadata": {
        "id": "xd-dr96uXxu9"
      },
      "outputs": [],
      "source": [
        "a2 = \"ALTERE AQUI - Digite a consulta SQL correspondente\"\n",
        "#NÃO ALTERE AS LINHAS ABAIXO\n",
        "runQuery(a2, \"a2\")"
      ]
    },
    {
      "cell_type": "code",
      "execution_count": null,
      "metadata": {
        "id": "gHfP3j2DXx6P"
      },
      "outputs": [],
      "source": [
        "a3 = \"ALTERE AQUI - Digite a consulta SQL correspondente\"\n",
        "#NÃO ALTERE AS LINHAS ABAIXO\n",
        "runQuery(a3, \"a3\")"
      ]
    },
    {
      "cell_type": "code",
      "execution_count": null,
      "metadata": {
        "id": "9_gkv1k1XydB"
      },
      "outputs": [],
      "source": [
        "a4 = \"ALTERE AQUI - Digite a consulta SQL correspondente\"\n",
        "#NÃO ALTERE AS LINHAS ABAIXO\n",
        "runQuery(a4, \"a4\")"
      ]
    },
    {
      "cell_type": "code",
      "execution_count": null,
      "metadata": {
        "id": "yUnUGT4XTEet"
      },
      "outputs": [],
      "source": [
        "a5 = \"ALTERE AQUI - Digite a consulta SQL correspondente\"\n",
        "# NÃO ALTERE AS LINHAS ABAIXO\n",
        "runQuery(a5, \"a5\")"
      ]
    },
    {
      "cell_type": "code",
      "execution_count": null,
      "metadata": {
        "id": "K0odXUSDTLYX"
      },
      "outputs": [],
      "source": [
        "a6 = \"ALTERE AQUI - Digite a consulta SQL correspondente\"\n",
        "# NÃO ALTERE AS LINHAS ABAIXO\n",
        "runQuery(a6, \"a6\")"
      ]
    },
    {
      "cell_type": "code",
      "execution_count": null,
      "metadata": {
        "id": "B0yd5YDhU9gG"
      },
      "outputs": [],
      "source": [
        "a7 = \"ALTERE AQUI - Digite a consulta SQL correspondente\"\n",
        "# NÃO ALTERE AS LINHAS ABAIXO\n",
        "runQuery(a7, \"a7\")"
      ]
    },
    {
      "cell_type": "code",
      "execution_count": null,
      "metadata": {
        "id": "_TKRdzZrTLmO"
      },
      "outputs": [],
      "source": [
        "a8 = \"ALTERE AQUI - Digite a consulta SQL correspondente\"\n",
        "# NÃO ALTERE AS LINHAS ABAIXO\n",
        "runQuery(a8, \"a8\")"
      ]
    },
    {
      "cell_type": "code",
      "execution_count": null,
      "metadata": {
        "id": "49GnZZ5BTLw4"
      },
      "outputs": [],
      "source": [
        "a9 = \"ALTERE AQUI - Digite a consulta SQL correspondente\"\n",
        "# NÃO ALTERE AS LINHAS ABAIXO\n",
        "runQuery(a9, \"a9\")"
      ]
    },
    {
      "cell_type": "code",
      "execution_count": null,
      "metadata": {},
      "outputs": [],
      "source": [
        "a10 = \"ALTERE AQUI - Digite a consulta SQL correspondente\"\n",
        "# NÃO ALTERE AS LINHAS ABAIXO\n",
        "runQuery(a10, \"a10\")"
      ]
    },
    {
      "cell_type": "markdown",
      "metadata": {
        "id": "2l0qzHBRSoro"
      },
      "source": [
        "## PARTE 2 - Consultas SQL\n",
        "Abaixo, seguem as consultas que voce terá de executar. Altere **APENAS** o espaço entre as aspas. Dentro desse espaço é que você deverá digitar o comando de execução da consulta."
      ]
    },
    {
      "cell_type": "code",
      "execution_count": null,
      "metadata": {
        "id": "qJj2evYi9uPp"
      },
      "outputs": [],
      "source": [
        "q1 = \"ALTERE AQUI - Digite a consulta SQL correspondente\"\n",
        "#NÃO ALTERE AS LINHAS ABAIXO\n",
        "runQuery(q1, \"q1\")"
      ]
    },
    {
      "cell_type": "code",
      "execution_count": null,
      "metadata": {
        "colab": {
          "base_uri": "https://localhost:8080/",
          "height": 408
        },
        "id": "6USqrESAJJl9",
        "outputId": "0dad4ad0-9d36-4457-9677-04617a7f8274"
      },
      "outputs": [],
      "source": [
        "q2 = \"ALTERE AQUI - Digite a consulta SQL correspondente\"\n",
        "#NÃO ALTERE AS LINHAS ABAIXO\n",
        "runQuery(q2, \"q2\")"
      ]
    },
    {
      "cell_type": "code",
      "execution_count": null,
      "metadata": {
        "id": "d9XKVY69JJKu"
      },
      "outputs": [],
      "source": [
        "q3 = \"ALTERE AQUI - Digite a consulta SQL correspondente\"\n",
        "#NÃO ALTERE AS LINHAS ABAIXO\n",
        "runQuery(q3, \"q3\")"
      ]
    },
    {
      "cell_type": "code",
      "execution_count": null,
      "metadata": {
        "id": "FgGtoeqfJOC8"
      },
      "outputs": [],
      "source": [
        "q4 = \"ALTERE AQUI - Digite a consulta SQL correspondente\"\n",
        "#NÃO ALTERE AS LINHAS ABAIXO\n",
        "runQuery(q4, \"q4\")"
      ]
    },
    {
      "cell_type": "code",
      "execution_count": null,
      "metadata": {
        "id": "86wdM8M3JOSy"
      },
      "outputs": [],
      "source": [
        "q5 = \"ALTERE AQUI - Digite a consulta SQL correspondente\"\n",
        "#NÃO ALTERE AS LINHAS ABAIXO\n",
        "runQuery(q5, \"q5\")"
      ]
    },
    {
      "cell_type": "code",
      "execution_count": null,
      "metadata": {
        "id": "edYyqGoCJOXy"
      },
      "outputs": [],
      "source": [
        "q6 = \"ALTERE AQUI - Digite a consulta SQL correspondente\"\n",
        "#NÃO ALTERE AS LINHAS ABAIXO\n",
        "runQuery(q6, \"q6\")"
      ]
    },
    {
      "cell_type": "code",
      "execution_count": null,
      "metadata": {
        "id": "7S3rNj7fJOaU"
      },
      "outputs": [],
      "source": [
        "q7 = \"ALTERE AQUI - Digite a consulta SQL correspondente\"\n",
        "#NÃO ALTERE AS LINHAS ABAIXO\n",
        "runQuery(q7, \"q7\")"
      ]
    },
    {
      "cell_type": "code",
      "execution_count": null,
      "metadata": {
        "id": "0I2xuul5JOce"
      },
      "outputs": [],
      "source": [
        "q8 = \"ALTERE AQUI - Digite a consulta SQL correspondente\"\n",
        "#NÃO ALTERE AS LINHAS ABAIXO\n",
        "runQuery(q8, \"q8\")"
      ]
    },
    {
      "cell_type": "code",
      "execution_count": null,
      "metadata": {
        "id": "L475F4fUJOei"
      },
      "outputs": [],
      "source": [
        "q9 = \"ALTERE AQUI - Digite a consulta SQL correspondente\"\n",
        "#NÃO ALTERE AS LINHAS ABAIXO\n",
        "runQuery(q9, \"q9\")"
      ]
    },
    {
      "cell_type": "code",
      "execution_count": null,
      "metadata": {
        "id": "D6IAlQow3DM8"
      },
      "outputs": [],
      "source": [
        "q10 = \"ALTERE AQUI - Digite a consulta SQL correspondente\"\n",
        "#NÃO ALTERE AS LINHAS ABAIXO\n",
        "runQuery(q10, \"q10\")"
      ]
    },
    {
      "cell_type": "markdown",
      "metadata": {},
      "source": [
        "# PARTE 3 - Personalização por Matrícula"
      ]
    },
    {
      "cell_type": "markdown",
      "metadata": {},
      "source": [
        "### 1. Crie uma nova tabela e, se necessário, altere as demais existentes"
      ]
    },
    {
      "cell_type": "code",
      "execution_count": null,
      "metadata": {},
      "outputs": [],
      "source": [
        "pm0 = \"ALTERE AQUI - Digite a consulta SQL correspondente\"\n",
        "#NÃO ALTERE AS LINHAS ABAIXO\n",
        "runQuery(pm0, \"pm0\")"
      ]
    },
    {
      "cell_type": "markdown",
      "metadata": {},
      "source": [
        "### 2. Insira aqui a consulta SQL pedida pelo seu número de matrícula"
      ]
    },
    {
      "cell_type": "code",
      "execution_count": null,
      "metadata": {},
      "outputs": [],
      "source": [
        "pm1 = \"ALTERE AQUI - Digite a consulta SQL correspondente\"\n",
        "#NÃO ALTERE AS LINHAS ABAIXO\n",
        "runQuery(pm1, \"pm1\")"
      ]
    },
    {
      "cell_type": "markdown",
      "metadata": {
        "id": "xqbHWlAJAF_M"
      },
      "source": [
        "# Finalizando o Banco de Dados e o Arquivo de Consultas gerado:"
      ]
    },
    {
      "cell_type": "code",
      "execution_count": null,
      "metadata": {
        "id": "liMikAbtIauA"
      },
      "outputs": [],
      "source": [
        "#NÃO ALTERE AS LINHAS ABAIXO\n",
        "queries.close()\n",
        "con.close()"
      ]
    },
    {
      "cell_type": "markdown",
      "metadata": {
        "id": "ZpgeqGXs7TUp"
      },
      "source": [
        "## Compactando Arquivos\n",
        "Na célula abaixo, substitua onde está escrito MATRÍCULA pelo seu número de matrícula."
      ]
    },
    {
      "cell_type": "code",
      "execution_count": null,
      "metadata": {
        "id": "a_nL7tLM7k7q"
      },
      "outputs": [],
      "source": [
        "#ALTERE ONDE ESTÁ ESCRITO MATRICULA para o numero de sua Matrícula\n",
        "!zip -r \"MATRICULA.zip\" \"TP1_matricula.ipynb\" \"MATRICULA.csv\""
      ]
    },
    {
      "cell_type": "markdown",
      "metadata": {
        "id": "2ftAbAxDWqG2"
      },
      "source": [
        "**LEMBRE-SE:** Após finalizar todas as consultas, clique em *Kernel -> Restart and Run All* no ambiente Jupyter!"
      ]
    }
  ],
  "metadata": {
    "colab": {
      "provenance": [],
      "toc_visible": true
    },
    "kernelspec": {
      "display_name": "Python 3",
      "language": "python",
      "name": "python3"
    },
    "language_info": {
      "codemirror_mode": {
        "name": "ipython",
        "version": 3
      },
      "file_extension": ".py",
      "mimetype": "text/x-python",
      "name": "python",
      "nbconvert_exporter": "python",
      "pygments_lexer": "ipython3",
      "version": "3.11.9"
    }
  },
  "nbformat": 4,
  "nbformat_minor": 0
}